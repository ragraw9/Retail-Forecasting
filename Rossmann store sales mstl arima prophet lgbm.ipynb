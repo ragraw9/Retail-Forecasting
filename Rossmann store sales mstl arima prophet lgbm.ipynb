{
 "cells": [
  {
   "cell_type": "markdown",
   "metadata": {
    "execution": {
     "iopub.execute_input": "2023-06-21T08:27:39.747791Z",
     "iopub.status.busy": "2023-06-21T08:27:39.747392Z",
     "iopub.status.idle": "2023-06-21T08:27:39.772419Z",
     "shell.execute_reply": "2023-06-21T08:27:39.771539Z",
     "shell.execute_reply.started": "2023-06-21T08:27:39.747763Z"
    }
   },
   "source": [
    "# <a name=\"0\"><font color='Blue'>**Rossmann Store Sales**</font></a>\n",
    "## **A Time Series problem.**\n",
    "### Dataset used is from a Kaggle competition [this](https://www.kaggle.com/competitions/rossmann-store-sales) link."
   ]
  },
  {
   "cell_type": "markdown",
   "metadata": {},
   "source": [
    "---"
   ]
  },
  {
   "cell_type": "markdown",
   "metadata": {},
   "source": [
    "## **Abstract:**\n",
    "\n",
    "**Rossmann operates over 3,000 drug stores in 7 European countries. Currently, Rossmann store managers are tasked with predicting their daily sales for up to six weeks in advance. Store sales are influenced by many factors, including promotions, competition, school and state holidays, seasonality, and locality. With thousands of individual managers predicting sales based on their unique circumstances, the accuracy of results can be quite varied.**\n",
    "\n",
    "\n",
    "**The notebook explores different methods to forecast sales for Rossmann stores. The models evaluated include machine learning (ML) models and time series models, as well as simple models for comparison.**"
   ]
  },
  {
   "cell_type": "markdown",
   "metadata": {},
   "source": [
    "---"
   ]
  },
  {
   "cell_type": "markdown",
   "metadata": {},
   "source": [
    "## **Table of Contents of the notebook:**\n",
    "\n",
    "1. <a href=\"#1\">**Setup**</a>\n",
    "2. <a href=\"#2\">**Reading the dataset**</a>\n",
    "3. <a href=\"#3\">**Data Preperation**</a>\n",
    "4. <a href=\"#4\">**Train Test Split**</a>\n",
    "5. <a href=\"#5\">**Gaining Insights (EDA)**</a>\n",
    "6. <a href=\"#6\">**Time Series Models**</a>\n",
    "7. <a href=\"#7\">**Machine Leaning Model**</a>\n",
    "8. <a href=\"#8\">**Choosing Best Model**</a>"
   ]
  },
  {
   "cell_type": "markdown",
   "metadata": {},
   "source": [
    "---"
   ]
  },
  {
   "cell_type": "markdown",
   "metadata": {},
   "source": [
    "# 1. <a name=\"1\">**Setup**</a>\n",
    "(<a href=\"#0\">Go to top</a>)\n",
    "\n",
    "**Installing and Importing used libraries.**"
   ]
  },
  {
   "cell_type": "code",
   "execution_count": null,
   "metadata": {
    "execution": {
     "iopub.execute_input": "2023-06-21T09:17:47.197855Z",
     "iopub.status.busy": "2023-06-21T09:17:47.197335Z",
     "iopub.status.idle": "2023-06-21T09:18:02.271001Z",
     "shell.execute_reply": "2023-06-21T09:18:02.269647Z",
     "shell.execute_reply.started": "2023-06-21T09:17:47.197825Z"
    }
   },
   "outputs": [],
   "source": [
    "# Install pmdarima\n",
    "!pip install pmdarima"
   ]
  },
  {
   "cell_type": "code",
   "execution_count": null,
   "metadata": {
    "execution": {
     "iopub.execute_input": "2023-06-21T09:18:02.275203Z",
     "iopub.status.busy": "2023-06-21T09:18:02.274368Z",
     "iopub.status.idle": "2023-06-21T09:24:24.454077Z",
     "shell.execute_reply": "2023-06-21T09:24:24.452766Z",
     "shell.execute_reply.started": "2023-06-21T09:18:02.275162Z"
    }
   },
   "outputs": [],
   "source": [
    "# Install statsmodels\n",
    "!pip install git+https://github.com/statsmodels/statsmodels.git@74836e9cf2198ac7a930146405da7239c0823a9b#egg=statsmodels"
   ]
  },
  {
   "cell_type": "code",
   "execution_count": null,
   "metadata": {
    "_cell_guid": "b1076dfc-b9ad-4769-8c92-a6c4dae69d19",
    "_uuid": "8f2839f25d086af736a60e9eeb907d3b93b6e0e5",
    "execution": {
     "iopub.execute_input": "2023-06-21T10:34:42.566077Z",
     "iopub.status.busy": "2023-06-21T10:34:42.56566Z",
     "iopub.status.idle": "2023-06-21T10:34:42.578669Z",
     "shell.execute_reply": "2023-06-21T10:34:42.577311Z",
     "shell.execute_reply.started": "2023-06-21T10:34:42.566044Z"
    }
   },
   "outputs": [],
   "source": [
    "import numpy as np\n",
    "import pandas as pd\n",
    "import os\n",
    "import seaborn as sns\n",
    "import matplotlib.pyplot as plt\n",
    "%matplotlib inline\n",
    "from sklearn.metrics import mean_squared_error\n",
    "from statsmodels.graphics.tsaplots import plot_acf\n",
    "from statsmodels.graphics.tsaplots import plot_pacf\n",
    "from statsmodels.tsa.seasonal import MSTL\n",
    "from statsmodels.tsa.stattools import kpss,adfuller\n",
    "from statsmodels.tsa.arima.model import ARIMA\n",
    "from statsmodels.tsa.statespace.sarimax import SARIMAX\n",
    "from pmdarima import auto_arima\n",
    "from lightgbm import LGBMRegressor\n",
    "from prophet import Prophet\n",
    "logging.getLogger(\"cmdstanpy\").disabled = True \n",
    "from sklearn.model_selection import ParameterGrid\n",
    "from tqdm import tqdm\n",
    "from itertools import product"
   ]
  },
  {
   "cell_type": "markdown",
   "metadata": {},
   "source": [
    "---"
   ]
  },
  {
   "cell_type": "markdown",
   "metadata": {},
   "source": [
    "# 2. <a name=\"2\">**Reading the dataset**</a>\n",
    "(<a href=\"#0\">Go to top</a>)"
   ]
  },
  {
   "cell_type": "code",
   "execution_count": null,
   "metadata": {
    "execution": {
     "iopub.execute_input": "2023-06-21T11:12:04.267703Z",
     "iopub.status.busy": "2023-06-21T11:12:04.267125Z",
     "iopub.status.idle": "2023-06-21T11:12:05.976984Z",
     "shell.execute_reply": "2023-06-21T11:12:05.975581Z",
     "shell.execute_reply.started": "2023-06-21T11:12:04.267665Z"
    }
   },
   "outputs": [],
   "source": [
    "df = pd.read_csv('/kaggle/input/rossmann-store-sales/train.csv', index_col = \"Date\", low_memory=False, parse_dates=['Date'])"
   ]
  },
  {
   "cell_type": "code",
   "execution_count": null,
   "metadata": {
    "execution": {
     "iopub.execute_input": "2023-06-21T11:12:05.979764Z",
     "iopub.status.busy": "2023-06-21T11:12:05.979302Z",
     "iopub.status.idle": "2023-06-21T11:12:05.996522Z",
     "shell.execute_reply": "2023-06-21T11:12:05.995166Z",
     "shell.execute_reply.started": "2023-06-21T11:12:05.979728Z"
    }
   },
   "outputs": [],
   "source": [
    "df.head()"
   ]
  },
  {
   "cell_type": "code",
   "execution_count": null,
   "metadata": {
    "execution": {
     "iopub.execute_input": "2023-06-21T11:12:06.070236Z",
     "iopub.status.busy": "2023-06-21T11:12:06.069612Z",
     "iopub.status.idle": "2023-06-21T11:12:06.436616Z",
     "shell.execute_reply": "2023-06-21T11:12:06.434774Z",
     "shell.execute_reply.started": "2023-06-21T11:12:06.070189Z"
    }
   },
   "outputs": [],
   "source": [
    "df.info()"
   ]
  },
  {
   "cell_type": "markdown",
   "metadata": {},
   "source": [
    "---"
   ]
  },
  {
   "cell_type": "markdown",
   "metadata": {},
   "source": [
    "# 3. <a name=\"3\">**Data preperation**</a>\n",
    "(<a href=\"#0\">Go to top</a>)"
   ]
  },
  {
   "cell_type": "markdown",
   "metadata": {},
   "source": [
    "## A- Choose The Store We will work on (Store 1)"
   ]
  },
  {
   "cell_type": "code",
   "execution_count": null,
   "metadata": {
    "execution": {
     "iopub.execute_input": "2023-06-21T11:12:07.824348Z",
     "iopub.status.busy": "2023-06-21T11:12:07.822724Z",
     "iopub.status.idle": "2023-06-21T11:12:07.835281Z",
     "shell.execute_reply": "2023-06-21T11:12:07.833316Z",
     "shell.execute_reply.started": "2023-06-21T11:12:07.824287Z"
    }
   },
   "outputs": [],
   "source": [
    "df = df[df[\"Store\"] == 1]"
   ]
  },
  {
   "cell_type": "markdown",
   "metadata": {},
   "source": [
    "## B- Check for nulls"
   ]
  },
  {
   "cell_type": "code",
   "execution_count": null,
   "metadata": {
    "execution": {
     "iopub.execute_input": "2023-06-21T11:12:08.255094Z",
     "iopub.status.busy": "2023-06-21T11:12:08.254533Z",
     "iopub.status.idle": "2023-06-21T11:12:08.273764Z",
     "shell.execute_reply": "2023-06-21T11:12:08.272151Z",
     "shell.execute_reply.started": "2023-06-21T11:12:08.255055Z"
    }
   },
   "outputs": [],
   "source": [
    "df.isnull().sum()"
   ]
  },
  {
   "cell_type": "markdown",
   "metadata": {},
   "source": [
    "## C- Make freq as daily"
   ]
  },
  {
   "cell_type": "code",
   "execution_count": null,
   "metadata": {
    "execution": {
     "iopub.execute_input": "2023-06-21T11:12:08.66255Z",
     "iopub.status.busy": "2023-06-21T11:12:08.660748Z",
     "iopub.status.idle": "2023-06-21T11:12:08.671984Z",
     "shell.execute_reply": "2023-06-21T11:12:08.670202Z",
     "shell.execute_reply.started": "2023-06-21T11:12:08.662484Z"
    }
   },
   "outputs": [],
   "source": [
    "df = df.asfreq('D')"
   ]
  },
  {
   "cell_type": "code",
   "execution_count": null,
   "metadata": {
    "execution": {
     "iopub.execute_input": "2023-06-21T11:12:08.856556Z",
     "iopub.status.busy": "2023-06-21T11:12:08.855292Z",
     "iopub.status.idle": "2023-06-21T11:12:08.868673Z",
     "shell.execute_reply": "2023-06-21T11:12:08.867324Z",
     "shell.execute_reply.started": "2023-06-21T11:12:08.856505Z"
    }
   },
   "outputs": [],
   "source": [
    "df.isnull().sum()"
   ]
  },
  {
   "cell_type": "markdown",
   "metadata": {},
   "source": [
    "## D- Remove Customers column as it won't be available in production"
   ]
  },
  {
   "cell_type": "code",
   "execution_count": null,
   "metadata": {
    "execution": {
     "iopub.execute_input": "2023-06-21T11:12:09.210401Z",
     "iopub.status.busy": "2023-06-21T11:12:09.209844Z",
     "iopub.status.idle": "2023-06-21T11:12:09.220774Z",
     "shell.execute_reply": "2023-06-21T11:12:09.2182Z",
     "shell.execute_reply.started": "2023-06-21T11:12:09.21036Z"
    }
   },
   "outputs": [],
   "source": [
    "df.drop([\"Customers\"], axis=1,inplace=True)"
   ]
  },
  {
   "cell_type": "markdown",
   "metadata": {},
   "source": [
    "## E- Sort by date"
   ]
  },
  {
   "cell_type": "code",
   "execution_count": null,
   "metadata": {
    "execution": {
     "iopub.execute_input": "2023-06-21T11:12:09.630593Z",
     "iopub.status.busy": "2023-06-21T11:12:09.630067Z",
     "iopub.status.idle": "2023-06-21T11:12:09.640403Z",
     "shell.execute_reply": "2023-06-21T11:12:09.638711Z",
     "shell.execute_reply.started": "2023-06-21T11:12:09.630555Z"
    }
   },
   "outputs": [],
   "source": [
    "df.sort_values(by=\"Date\", inplace=True)"
   ]
  },
  {
   "cell_type": "markdown",
   "metadata": {},
   "source": [
    "---"
   ]
  },
  {
   "cell_type": "markdown",
   "metadata": {
    "execution": {
     "iopub.execute_input": "2023-06-20T09:55:42.903977Z",
     "iopub.status.busy": "2023-06-20T09:55:42.903488Z",
     "iopub.status.idle": "2023-06-20T09:55:42.909927Z",
     "shell.execute_reply": "2023-06-20T09:55:42.90855Z",
     "shell.execute_reply.started": "2023-06-20T09:55:42.903941Z"
    }
   },
   "source": [
    "# 4. <a name=\"4\">**Train Test Split**</a>\n",
    "(<a href=\"#0\">Go to top</a>)"
   ]
  },
  {
   "cell_type": "markdown",
   "metadata": {},
   "source": [
    "### <font color='green'>**Split data into train and test 80:20**</font>"
   ]
  },
  {
   "cell_type": "code",
   "execution_count": null,
   "metadata": {
    "execution": {
     "iopub.execute_input": "2023-06-21T11:12:10.454437Z",
     "iopub.status.busy": "2023-06-21T11:12:10.453862Z",
     "iopub.status.idle": "2023-06-21T11:12:10.463675Z",
     "shell.execute_reply": "2023-06-21T11:12:10.461684Z",
     "shell.execute_reply.started": "2023-06-21T11:12:10.454397Z"
    }
   },
   "outputs": [],
   "source": [
    "train_size = int(len(df) * 0.8)\n",
    "train_data = df[:train_size].copy(deep=True)\n",
    "test_data = df[train_size:].copy(deep=True)"
   ]
  },
  {
   "cell_type": "markdown",
   "metadata": {},
   "source": [
    "---"
   ]
  },
  {
   "cell_type": "markdown",
   "metadata": {
    "execution": {
     "iopub.execute_input": "2023-06-20T09:22:20.468327Z",
     "iopub.status.busy": "2023-06-20T09:22:20.467863Z",
     "iopub.status.idle": "2023-06-20T09:22:20.473953Z",
     "shell.execute_reply": "2023-06-20T09:22:20.472636Z",
     "shell.execute_reply.started": "2023-06-20T09:22:20.468293Z"
    }
   },
   "source": [
    "# 5. <a name=\"5\">**Gaining Insights (EDA)**</a>\n",
    "(<a href=\"#0\">Go to top</a>)"
   ]
  },
  {
   "cell_type": "markdown",
   "metadata": {},
   "source": [
    "## A- Plot Sales (All train data) "
   ]
  },
  {
   "cell_type": "code",
   "execution_count": null,
   "metadata": {
    "execution": {
     "iopub.execute_input": "2023-06-21T11:12:11.344346Z",
     "iopub.status.busy": "2023-06-21T11:12:11.343756Z",
     "iopub.status.idle": "2023-06-21T11:12:11.87498Z",
     "shell.execute_reply": "2023-06-21T11:12:11.873215Z",
     "shell.execute_reply.started": "2023-06-21T11:12:11.344301Z"
    }
   },
   "outputs": [],
   "source": [
    "plt.figure(figsize=(10, 6))\n",
    "train_data['Sales'].plot()\n",
    "plt.xlabel('Day')\n",
    "plt.ylabel('Sales')\n",
    "plt.title('Sales over Time (Whole data)')\n",
    "plt.show()"
   ]
  },
  {
   "cell_type": "markdown",
   "metadata": {},
   "source": [
    "## B- Plot Sales (One Month) "
   ]
  },
  {
   "cell_type": "code",
   "execution_count": null,
   "metadata": {
    "execution": {
     "iopub.execute_input": "2023-06-21T11:12:12.038189Z",
     "iopub.status.busy": "2023-06-21T11:12:12.037619Z",
     "iopub.status.idle": "2023-06-21T11:12:12.496308Z",
     "shell.execute_reply": "2023-06-21T11:12:12.494298Z",
     "shell.execute_reply.started": "2023-06-21T11:12:12.038142Z"
    }
   },
   "outputs": [],
   "source": [
    "plt.figure(figsize=(10, 6))\n",
    "train_data['Sales'][:30].plot()\n",
    "plt.xlabel('Day')\n",
    "plt.ylabel('Sales')\n",
    "plt.title('Sales over Time (One Month)')\n",
    "plt.show()"
   ]
  },
  {
   "cell_type": "markdown",
   "metadata": {},
   "source": [
    "### <font color='green'>**It seems that Friday is the off day of the stores**</font>"
   ]
  },
  {
   "cell_type": "markdown",
   "metadata": {},
   "source": [
    "## C- Plot Sales (One Year) "
   ]
  },
  {
   "cell_type": "code",
   "execution_count": null,
   "metadata": {
    "execution": {
     "iopub.execute_input": "2023-06-21T11:12:12.499386Z",
     "iopub.status.busy": "2023-06-21T11:12:12.498899Z",
     "iopub.status.idle": "2023-06-21T11:12:13.126661Z",
     "shell.execute_reply": "2023-06-21T11:12:13.124907Z",
     "shell.execute_reply.started": "2023-06-21T11:12:12.499347Z"
    }
   },
   "outputs": [],
   "source": [
    "plt.figure(figsize=(10, 6))\n",
    "train_data['Sales'][:365].plot()\n",
    "plt.xlabel('Day')\n",
    "plt.ylabel('Sales')\n",
    "plt.title('Sales over Time (One Year)')\n",
    "plt.show()"
   ]
  },
  {
   "cell_type": "markdown",
   "metadata": {},
   "source": [
    "### <font color='green'>**We see a peak in sales in Dec**</font>"
   ]
  },
  {
   "cell_type": "markdown",
   "metadata": {},
   "source": [
    "## D- Extract additional columns "
   ]
  },
  {
   "cell_type": "code",
   "execution_count": null,
   "metadata": {
    "execution": {
     "iopub.execute_input": "2023-06-21T11:12:13.129681Z",
     "iopub.status.busy": "2023-06-21T11:12:13.129206Z",
     "iopub.status.idle": "2023-06-21T11:12:13.143685Z",
     "shell.execute_reply": "2023-06-21T11:12:13.14224Z",
     "shell.execute_reply.started": "2023-06-21T11:12:13.129642Z"
    }
   },
   "outputs": [],
   "source": [
    "train_data['year'] = train_data.index.year\n",
    "train_data['month'] = train_data.index.month\n",
    "train_data['day'] = train_data.index.day\n",
    "\n",
    "# Convert the columns to integers\n",
    "train_data['year'] = train_data['year'].astype(int)\n",
    "train_data['month'] = train_data['month'].astype(int)\n",
    "train_data['day'] = train_data['day'].astype(int)"
   ]
  },
  {
   "cell_type": "code",
   "execution_count": null,
   "metadata": {
    "execution": {
     "iopub.execute_input": "2023-06-21T11:12:13.146294Z",
     "iopub.status.busy": "2023-06-21T11:12:13.145756Z",
     "iopub.status.idle": "2023-06-21T11:12:13.167242Z",
     "shell.execute_reply": "2023-06-21T11:12:13.165703Z",
     "shell.execute_reply.started": "2023-06-21T11:12:13.146226Z"
    }
   },
   "outputs": [],
   "source": [
    "train_data.info()"
   ]
  },
  {
   "cell_type": "markdown",
   "metadata": {},
   "source": [
    "## E- Plot sales by different dates values"
   ]
  },
  {
   "cell_type": "code",
   "execution_count": null,
   "metadata": {
    "execution": {
     "iopub.execute_input": "2023-06-21T11:12:14.425491Z",
     "iopub.status.busy": "2023-06-21T11:12:14.424919Z",
     "iopub.status.idle": "2023-06-21T11:12:17.898281Z",
     "shell.execute_reply": "2023-06-21T11:12:17.896312Z",
     "shell.execute_reply.started": "2023-06-21T11:12:14.425445Z"
    }
   },
   "outputs": [],
   "source": [
    "# Create a grid of bar charts\n",
    "fig, axes = plt.subplots(2, 2, figsize=(15, 10))\n",
    "sns.barplot(x='year',y=\"Sales\", data=train_data, ax=axes[0, 0])\n",
    "sns.barplot(x='month',y=\"Sales\", data=train_data, ax=axes[0, 1])\n",
    "sns.barplot(x='day',y=\"Sales\", data=train_data, ax=axes[1, 0])\n",
    "sns.barplot(x='DayOfWeek',y=\"Sales\", data=train_data, ax=axes[1, 1])\n",
    "\n",
    "# Set the titles for each chart\n",
    "axes[0, 0].set_title('Sales by Year')\n",
    "axes[0, 1].set_title('Sales by Month')\n",
    "axes[1, 0].set_title('Sales by Day')\n",
    "axes[1, 1].set_title('Sales by Weekday')\n",
    "\n",
    "# Adjust the spacing between subplots\n",
    "plt.tight_layout()\n",
    "\n",
    "# Show the grid of bar charts\n",
    "plt.show()"
   ]
  },
  {
   "cell_type": "markdown",
   "metadata": {},
   "source": [
    "### <font color='green'>**The Insighst we gained:**<Br><Br>1. Sales decrease over the years<Br><Br>2. The peak of sales is on Nov and Dec<Br><Br>3. Sales increase in the opening and closing day of the week</font>"
   ]
  },
  {
   "cell_type": "markdown",
   "metadata": {},
   "source": [
    "## F- Define Monthly seasonal plot"
   ]
  },
  {
   "cell_type": "code",
   "execution_count": null,
   "metadata": {
    "execution": {
     "iopub.execute_input": "2023-06-21T11:12:17.901998Z",
     "iopub.status.busy": "2023-06-21T11:12:17.901459Z",
     "iopub.status.idle": "2023-06-21T11:12:17.91234Z",
     "shell.execute_reply": "2023-06-21T11:12:17.910567Z",
     "shell.execute_reply.started": "2023-06-21T11:12:17.901958Z"
    }
   },
   "outputs": [],
   "source": [
    "def monthly_quarter_line_plot(df,col_x,col_y,hue_col,title=\"Monthly\"):\n",
    "    plt.figure(figsize=(10,8))\n",
    "    sns.lineplot(data=df, \n",
    "                 x=col_x, \n",
    "                 y=col_y, \n",
    "                 hue=hue_col, \n",
    "                 legend='full',palette=\"tab10\")\n",
    "\n",
    "    # add title\n",
    "    plt.title(title+' Seasonal plot')\n",
    "\n",
    "    # move the legend outside of the main figure\n",
    "    plt.legend(bbox_to_anchor=(1.05, 1), loc=2)"
   ]
  },
  {
   "cell_type": "markdown",
   "metadata": {},
   "source": [
    "## G- plot Monthly seasonal"
   ]
  },
  {
   "cell_type": "code",
   "execution_count": null,
   "metadata": {
    "execution": {
     "iopub.execute_input": "2023-06-21T11:12:17.91443Z",
     "iopub.status.busy": "2023-06-21T11:12:17.913936Z",
     "iopub.status.idle": "2023-06-21T11:12:19.437468Z",
     "shell.execute_reply": "2023-06-21T11:12:19.436116Z",
     "shell.execute_reply.started": "2023-06-21T11:12:17.91439Z"
    }
   },
   "outputs": [],
   "source": [
    "monthly_quarter_line_plot(train_data,\"month\",\"Sales\",\"year\",title=\"Monthly\")"
   ]
  },
  {
   "cell_type": "markdown",
   "metadata": {},
   "source": [
    "## H- Plot Sales in different conditions"
   ]
  },
  {
   "cell_type": "code",
   "execution_count": null,
   "metadata": {
    "execution": {
     "iopub.execute_input": "2023-06-21T11:12:19.441353Z",
     "iopub.status.busy": "2023-06-21T11:12:19.440082Z",
     "iopub.status.idle": "2023-06-21T11:12:20.918589Z",
     "shell.execute_reply": "2023-06-21T11:12:20.916867Z",
     "shell.execute_reply.started": "2023-06-21T11:12:19.441285Z"
    }
   },
   "outputs": [],
   "source": [
    "# Create a grid of bar charts\n",
    "fig, axes = plt.subplots(2, 2, figsize=(15, 10))\n",
    "sns.barplot(x='Open',y=\"Sales\", data=train_data, ax=axes[0, 0])\n",
    "sns.barplot(x='Promo',y=\"Sales\", data=train_data, ax=axes[0, 1])\n",
    "sns.barplot(x='StateHoliday',y=\"Sales\", data=train_data, ax=axes[1, 0])\n",
    "sns.barplot(x='SchoolHoliday',y=\"Sales\", data=train_data, ax=axes[1, 1])\n",
    "\n",
    "# Set the titles for each chart\n",
    "axes[0, 0].set_title('Sales in Open')\n",
    "axes[0, 1].set_title('Sales in Promo')\n",
    "axes[1, 0].set_title('Sales in StateHoliday')\n",
    "axes[1, 1].set_title('Sales in SchoolHoliday')\n",
    "\n",
    "# Adjust the spacing between subplots\n",
    "plt.tight_layout()\n",
    "\n",
    "# Show the grid of bar charts\n",
    "plt.show()"
   ]
  },
  {
   "cell_type": "markdown",
   "metadata": {},
   "source": [
    "### <font color='green'>**Nothing unusual, no sales when store is closed, State holidays don't add new information, sales increase in promo, and Shool holidays don't make that difference**</font>"
   ]
  },
  {
   "cell_type": "markdown",
   "metadata": {},
   "source": [
    "## I- Define histogram function"
   ]
  },
  {
   "cell_type": "code",
   "execution_count": null,
   "metadata": {
    "execution": {
     "iopub.execute_input": "2023-06-21T11:57:16.245152Z",
     "iopub.status.busy": "2023-06-21T11:57:16.244737Z",
     "iopub.status.idle": "2023-06-21T11:57:16.252992Z",
     "shell.execute_reply": "2023-06-21T11:57:16.251784Z",
     "shell.execute_reply.started": "2023-06-21T11:57:16.245112Z"
    }
   },
   "outputs": [],
   "source": [
    "def histograms(df,col_name,bins_number=100,diff=False, xmin=-1000, xmax=1000):\n",
    "    if diff:\n",
    "        plt.figure(figsize=(8,6))\n",
    "        plt.hist(df[col_name].diff(),bins=bins_number)\n",
    "        plt.xlim(xmin,xmax)\n",
    "        plt.show()\n",
    "    else:\n",
    "        plt.figure(figsize=(8,6))\n",
    "        plt.hist(df[col_name],bins=bins_number)\n",
    "        plt.show()"
   ]
  },
  {
   "cell_type": "markdown",
   "metadata": {},
   "source": [
    "## J- Distribution of sales values differences (When the store is not closed)"
   ]
  },
  {
   "cell_type": "code",
   "execution_count": null,
   "metadata": {
    "execution": {
     "iopub.execute_input": "2023-06-21T11:57:16.758271Z",
     "iopub.status.busy": "2023-06-21T11:57:16.757865Z",
     "iopub.status.idle": "2023-06-21T11:57:17.325517Z",
     "shell.execute_reply": "2023-06-21T11:57:17.324416Z",
     "shell.execute_reply.started": "2023-06-21T11:57:16.758218Z"
    }
   },
   "outputs": [],
   "source": [
    "histograms(train_data[train_data[\"Sales\"] != 0],\"Sales\",bins_number=200,diff=True)"
   ]
  },
  {
   "cell_type": "markdown",
   "metadata": {
    "execution": {
     "iopub.execute_input": "2023-06-20T09:47:01.952488Z",
     "iopub.status.busy": "2023-06-20T09:47:01.951706Z",
     "iopub.status.idle": "2023-06-20T09:47:01.959493Z",
     "shell.execute_reply": "2023-06-20T09:47:01.957407Z",
     "shell.execute_reply.started": "2023-06-20T09:47:01.952447Z"
    }
   },
   "source": [
    "## K- Distribution of sales values (When the store is not closed)"
   ]
  },
  {
   "cell_type": "code",
   "execution_count": null,
   "metadata": {
    "execution": {
     "iopub.execute_input": "2023-06-21T11:57:17.328032Z",
     "iopub.status.busy": "2023-06-21T11:57:17.327594Z",
     "iopub.status.idle": "2023-06-21T11:57:17.90794Z",
     "shell.execute_reply": "2023-06-21T11:57:17.906769Z",
     "shell.execute_reply.started": "2023-06-21T11:57:17.327993Z"
    }
   },
   "outputs": [],
   "source": [
    "histograms(train_data[train_data[\"Sales\"] != 0],\"Sales\",bins_number=200,diff=False)"
   ]
  },
  {
   "cell_type": "markdown",
   "metadata": {},
   "source": [
    "---"
   ]
  },
  {
   "cell_type": "markdown",
   "metadata": {},
   "source": [
    "# 6. <a name=\"6\">**Time Series Models**</a>\n",
    "(<a href=\"#0\">Go to top</a>)"
   ]
  },
  {
   "cell_type": "markdown",
   "metadata": {},
   "source": [
    "![](https://forums.fast.ai/uploads/default/original/2X/3/3c449523e3973a978d480854fd17af0299b5c9b7.png)"
   ]
  },
  {
   "cell_type": "markdown",
   "metadata": {},
   "source": [
    "### Eval Metric (RMSPE):"
   ]
  },
  {
   "cell_type": "code",
   "execution_count": null,
   "metadata": {
    "execution": {
     "iopub.execute_input": "2023-06-21T11:12:22.286986Z",
     "iopub.status.busy": "2023-06-21T11:12:22.286497Z",
     "iopub.status.idle": "2023-06-21T11:12:22.294717Z",
     "shell.execute_reply": "2023-06-21T11:12:22.293207Z",
     "shell.execute_reply.started": "2023-06-21T11:12:22.286948Z"
    }
   },
   "outputs": [],
   "source": [
    "def rmspe(y_true, y_pred):\n",
    "    return np.sqrt(mean_squared_error(y_true, y_pred)) / np.mean(y_true)"
   ]
  },
  {
   "cell_type": "markdown",
   "metadata": {},
   "source": [
    "### Plot train vs test"
   ]
  },
  {
   "cell_type": "code",
   "execution_count": null,
   "metadata": {
    "execution": {
     "iopub.execute_input": "2023-06-21T11:12:22.296745Z",
     "iopub.status.busy": "2023-06-21T11:12:22.296222Z",
     "iopub.status.idle": "2023-06-21T11:12:22.808028Z",
     "shell.execute_reply": "2023-06-21T11:12:22.806896Z",
     "shell.execute_reply.started": "2023-06-21T11:12:22.296701Z"
    }
   },
   "outputs": [],
   "source": [
    "fig ,axes =plt.subplots(1,1)\n",
    "fig.set_figheight(6)\n",
    "fig.set_figwidth(16)\n",
    "\n",
    "axes.plot(train_data[\"Sales\"], label='Train',color='blue')\n",
    "axes.plot(test_data[\"Sales\"], label='Test',color='orange')\n",
    "plt.show()"
   ]
  },
  {
   "cell_type": "markdown",
   "metadata": {},
   "source": [
    "## **A- Simple Forecasting Models**"
   ]
  },
  {
   "cell_type": "markdown",
   "metadata": {},
   "source": [
    "### Models Functions"
   ]
  },
  {
   "cell_type": "code",
   "execution_count": null,
   "metadata": {
    "execution": {
     "iopub.execute_input": "2023-06-21T11:33:30.704313Z",
     "iopub.status.busy": "2023-06-21T11:33:30.703883Z",
     "iopub.status.idle": "2023-06-21T11:33:30.716371Z",
     "shell.execute_reply": "2023-06-21T11:33:30.7151Z",
     "shell.execute_reply.started": "2023-06-21T11:33:30.70428Z"
    }
   },
   "outputs": [],
   "source": [
    "def average_method(train_data,test_data):\n",
    "    ## Average method \n",
    "    average_prediction = [np.mean(train_data)]*len(test_data)\n",
    "    average_pred = pd.DataFrame(average_prediction)\n",
    "    average_pred.index = test_data.index\n",
    "    return average_pred.squeeze()\n",
    "\n",
    "def naive_method(train_data,test_data):\n",
    "    ##Naive method\n",
    "    naiive_prediction = [train_data.iloc[-1]]*len(test_data)\n",
    "    naiive_pred = pd.DataFrame(naiive_prediction)\n",
    "    naiive_pred.index = test_data.index\n",
    "    return naiive_pred.squeeze()\n",
    "\n",
    "def seasonal_naive(train_data,test_data):\n",
    "    ##SEasonal_NAive\n",
    "    dates = (test_data.index - np.timedelta64(1, 'Y')).values.astype('datetime64[D]')\n",
    "    dates = dates + np.timedelta64(2,'D')\n",
    "    seasonal_naive_prediction = train_data[train_data.index.isin(dates)].values # seasonal naive prediction\n",
    "    seasonal_naive = pd.DataFrame(seasonal_naive_prediction).set_index(test_data.index)\n",
    "    return seasonal_naive.squeeze()\n",
    "\n",
    "def drift_method(train_data,test_data):\n",
    "    # Get the slope\n",
    "    y_t = train_data[len(train_data)-1]\n",
    "    m = (y_t - train_data[1]) / len(train_data)\n",
    "    h = np.linspace(0,len(test_data)-1, len(test_data))\n",
    "    drift_prediction = y_t + m * h\n",
    "    drift_pred = pd.DataFrame(drift_prediction).set_index(test_data.index)\n",
    "    return drift_pred.squeeze()"
   ]
  },
  {
   "cell_type": "markdown",
   "metadata": {
    "execution": {
     "iopub.execute_input": "2023-06-20T10:13:45.06656Z",
     "iopub.status.busy": "2023-06-20T10:13:45.066168Z",
     "iopub.status.idle": "2023-06-20T10:13:45.072849Z",
     "shell.execute_reply": "2023-06-20T10:13:45.071821Z",
     "shell.execute_reply.started": "2023-06-20T10:13:45.066531Z"
    }
   },
   "source": [
    "### Get predictions"
   ]
  },
  {
   "cell_type": "code",
   "execution_count": null,
   "metadata": {
    "execution": {
     "iopub.execute_input": "2023-06-21T11:33:33.93056Z",
     "iopub.status.busy": "2023-06-21T11:33:33.930102Z",
     "iopub.status.idle": "2023-06-21T11:33:33.943038Z",
     "shell.execute_reply": "2023-06-21T11:33:33.941576Z",
     "shell.execute_reply.started": "2023-06-21T11:33:33.930524Z"
    }
   },
   "outputs": [],
   "source": [
    "average_pred = average_method(train_data[\"Sales\"],test_data[\"Sales\"])\n",
    "naiive_pred = naive_method(train_data[\"Sales\"],test_data[\"Sales\"])\n",
    "seasonal_naive_pred = seasonal_naive(train_data[\"Sales\"],test_data[\"Sales\"])\n",
    "drift_pred = drift_method(train_data[\"Sales\"],test_data[\"Sales\"])"
   ]
  },
  {
   "cell_type": "markdown",
   "metadata": {},
   "source": [
    "### Make Value of prediction = 0 when The Store is not open"
   ]
  },
  {
   "cell_type": "code",
   "execution_count": null,
   "metadata": {
    "execution": {
     "iopub.execute_input": "2023-06-21T11:33:41.333726Z",
     "iopub.status.busy": "2023-06-21T11:33:41.333337Z",
     "iopub.status.idle": "2023-06-21T11:33:41.343103Z",
     "shell.execute_reply": "2023-06-21T11:33:41.342148Z",
     "shell.execute_reply.started": "2023-06-21T11:33:41.333698Z"
    }
   },
   "outputs": [],
   "source": [
    "for pred in [average_pred,naiive_pred,seasonal_naive_pred,drift_pred]:\n",
    "    pred[test_data[\"Open\"] == 0] = 0"
   ]
  },
  {
   "cell_type": "markdown",
   "metadata": {},
   "source": [
    "### Plot predicions"
   ]
  },
  {
   "cell_type": "code",
   "execution_count": null,
   "metadata": {
    "execution": {
     "iopub.execute_input": "2023-06-21T11:33:57.12058Z",
     "iopub.status.busy": "2023-06-21T11:33:57.120127Z",
     "iopub.status.idle": "2023-06-21T11:33:57.900401Z",
     "shell.execute_reply": "2023-06-21T11:33:57.899503Z",
     "shell.execute_reply.started": "2023-06-21T11:33:57.120545Z"
    }
   },
   "outputs": [],
   "source": [
    "fig ,axes =plt.subplots(2,1)\n",
    "fig.set_figheight(6)\n",
    "fig.set_figwidth(16)\n",
    "\n",
    "axes[0].plot(train_data[\"Sales\"], label='Train',color='blue')\n",
    "axes[0].plot(test_data[\"Sales\"], label='Test',color='orange')\n",
    "\n",
    "axes[0].plot(average_pred,label=\"Average method\",color='red')\n",
    "axes[0].plot(naiive_pred,label=\"Naive method\",color='purple')\n",
    "axes[0].plot(seasonal_naive_pred, label='Seasonal_Naive',color='green')\n",
    "axes[0].plot(drift_pred,label='Drift',color='orchid')\n",
    "axes[0].legend(loc='best')\n",
    "\n",
    "axes[1].plot(test_data[\"Sales\"], label='Test',color='orange')\n",
    "axes[1].plot(average_pred,label=\"Average method\",color='red')\n",
    "axes[1].plot(naiive_pred,label=\"Naive method\",color='purple')\n",
    "axes[1].plot(seasonal_naive_pred, label='Seasonal_Naive',color='green')\n",
    "axes[1].plot(drift_pred,label='Drift',color='orchid')\n",
    "axes[1].legend(loc='best')\n",
    "plt.show()"
   ]
  },
  {
   "cell_type": "markdown",
   "metadata": {},
   "source": [
    "### Evaluate predictions"
   ]
  },
  {
   "cell_type": "code",
   "execution_count": null,
   "metadata": {
    "execution": {
     "iopub.execute_input": "2023-06-21T11:34:17.489423Z",
     "iopub.status.busy": "2023-06-21T11:34:17.489014Z",
     "iopub.status.idle": "2023-06-21T11:34:17.506541Z",
     "shell.execute_reply": "2023-06-21T11:34:17.505285Z",
     "shell.execute_reply.started": "2023-06-21T11:34:17.489392Z"
    }
   },
   "outputs": [],
   "source": [
    "print(f\"\"\"\n",
    "RMSPE for average method:{rmspe( average_pred, test_data[[\"Sales\"]])}\n",
    "RMSPE for Naive method:{rmspe( naiive_pred, test_data[[\"Sales\"]])}\n",
    "RMSPE for Seasonal_Naive method:{rmspe( seasonal_naive_pred, test_data[[\"Sales\"]])}\n",
    "RMSPE for Drift method:{rmspe( drift_pred, test_data[[\"Sales\"]])}\"\"\")"
   ]
  },
  {
   "cell_type": "markdown",
   "metadata": {},
   "source": [
    "### <font color='green'>**Seasonal naive method is doing a very good job actually!**</font>"
   ]
  },
  {
   "cell_type": "markdown",
   "metadata": {},
   "source": [
    "## **B- MSTL Model**"
   ]
  },
  {
   "cell_type": "code",
   "execution_count": null,
   "metadata": {
    "execution": {
     "iopub.execute_input": "2023-06-21T11:12:27.406717Z",
     "iopub.status.busy": "2023-06-21T11:12:27.404999Z",
     "iopub.status.idle": "2023-06-21T11:12:28.014523Z",
     "shell.execute_reply": "2023-06-21T11:12:28.012991Z",
     "shell.execute_reply.started": "2023-06-21T11:12:27.406655Z"
    }
   },
   "outputs": [],
   "source": [
    "mstl = MSTL(train_data[\"Sales\"], periods=(7, 30, 365), stl_kwargs={\"seasonal_deg\": 0})\n",
    "res = mstl.fit() "
   ]
  },
  {
   "cell_type": "markdown",
   "metadata": {},
   "source": [
    "### <font color='green'>**Multiple seasonal periods are allowed, so we will choose weekly, monthly and anually**</font>"
   ]
  },
  {
   "cell_type": "code",
   "execution_count": null,
   "metadata": {
    "execution": {
     "iopub.execute_input": "2023-06-21T11:12:28.113842Z",
     "iopub.status.busy": "2023-06-21T11:12:28.113279Z",
     "iopub.status.idle": "2023-06-21T11:12:31.530482Z",
     "shell.execute_reply": "2023-06-21T11:12:31.52888Z",
     "shell.execute_reply.started": "2023-06-21T11:12:28.113798Z"
    }
   },
   "outputs": [],
   "source": [
    "# Start with the plot from the results object `res`\n",
    "plt.rc(\"figure\", figsize=(16, 20))\n",
    "plt.rc(\"font\", size=13)\n",
    "fig = res.plot()\n",
    "\n",
    "# Make plot pretty\n",
    "axs = fig.get_axes()\n",
    "\n",
    "axs[0].set_ylabel(\"Sales\")\n",
    "axs[0].set_title(\"Decomposition sales\")\n",
    "\n",
    "plt.tight_layout()"
   ]
  },
  {
   "cell_type": "markdown",
   "metadata": {},
   "source": [
    "<div class=\"alert-info\">\n",
    "<font color='black'>Fitting functions on seasonal and trend decomposition of time series (STL) can be challenging, Despite the challenges, STL decomposition remains a useful technique for analyzing and modeling time series data, especially when dealing with seasonal and trend components</font>\n",
    "</div>"
   ]
  },
  {
   "cell_type": "markdown",
   "metadata": {},
   "source": [
    "## **C- Arima models**"
   ]
  },
  {
   "cell_type": "markdown",
   "metadata": {},
   "source": [
    "### Define kpss_test function"
   ]
  },
  {
   "cell_type": "code",
   "execution_count": null,
   "metadata": {
    "execution": {
     "iopub.execute_input": "2023-06-21T11:12:31.533597Z",
     "iopub.status.busy": "2023-06-21T11:12:31.533044Z",
     "iopub.status.idle": "2023-06-21T11:12:31.543914Z",
     "shell.execute_reply": "2023-06-21T11:12:31.542156Z",
     "shell.execute_reply.started": "2023-06-21T11:12:31.533548Z"
    }
   },
   "outputs": [],
   "source": [
    "def kpss_test(data,threshold=0.05,regression=\"c\"):\n",
    "    result = kpss(data,regression=\"c\")\n",
    "    #print(result)\n",
    "    # Print test results\n",
    "    print('KPSS Statistic:', result[0])\n",
    "    print('p-value:', result[1])\n",
    "    print('Lags Used:', result[2])\n",
    "    print('Critical Values:')\n",
    "    for key, value in result[3].items():\n",
    "        print('\\t{}: {}'.format(key, value))\n",
    "    if result[1]<=threshold:\n",
    "        print(\"The data is not stationary\")\n",
    "    else:\n",
    "        print(\"The data is stationary\")"
   ]
  },
  {
   "cell_type": "markdown",
   "metadata": {},
   "source": [
    "### Define adf_test function"
   ]
  },
  {
   "cell_type": "code",
   "execution_count": null,
   "metadata": {
    "execution": {
     "iopub.execute_input": "2023-06-21T11:12:31.547713Z",
     "iopub.status.busy": "2023-06-21T11:12:31.547173Z",
     "iopub.status.idle": "2023-06-21T11:12:31.560694Z",
     "shell.execute_reply": "2023-06-21T11:12:31.558716Z",
     "shell.execute_reply.started": "2023-06-21T11:12:31.547672Z"
    }
   },
   "outputs": [],
   "source": [
    "def adf_test(data,threshold=0.05):\n",
    "    # Perform ADF test\n",
    "    result = adfuller(data,autolag=\"AIC\")\n",
    "    \n",
    "    # Print test results\n",
    "    print('ADF Statistic:', result[0])\n",
    "    print('p-value:', result[1])\n",
    "    print('Critical Values:')\n",
    "    for key, value in result[4].items():\n",
    "        print('\\t{}: {}'.format(key, value))\n",
    "    \n",
    "    if result[1] <= threshold:\n",
    "        print(\"Conclusion:====>\") \n",
    "        print(\"Reject the null hypothesis\") \n",
    "        print(\"Data is stationary\")\n",
    "    else:\n",
    "        print(\"Conclusion:====>\")\n",
    "        print(\"Fail to reject the null hypothesis\") \n",
    "        print(\"Data is non-stationary\")"
   ]
  },
  {
   "cell_type": "markdown",
   "metadata": {},
   "source": [
    "### Define autocorrelatin_graphs function"
   ]
  },
  {
   "cell_type": "code",
   "execution_count": null,
   "metadata": {
    "execution": {
     "iopub.execute_input": "2023-06-21T11:12:31.564049Z",
     "iopub.status.busy": "2023-06-21T11:12:31.563113Z",
     "iopub.status.idle": "2023-06-21T11:12:31.585282Z",
     "shell.execute_reply": "2023-06-21T11:12:31.583109Z",
     "shell.execute_reply.started": "2023-06-21T11:12:31.563996Z"
    }
   },
   "outputs": [],
   "source": [
    "def autocorrelatin_graphs(value,n_lags,title_text):\n",
    "    fig, axes = plt.subplots(3,1,dpi=80)\n",
    "    fig.set_figheight(12)\n",
    "    fig.set_figwidth(16)\n",
    "    value_plot = axes[0].plot(value)\n",
    "    plt.title(f'{title_text}')\n",
    "    acf_plot = plot_acf(value, lags=n_lags, title=f'Autocorrelation in {title_text}',ax=axes[1])\n",
    "    plt.xlabel('Lags')\n",
    "    pacf_plot = plot_pacf(value, lags=n_lags, title=f'Partial Autocorrelation in {title_text}',ax=axes[2])\n",
    "    plt.xlabel('Lags')\n",
    "    plt.tight_layout()\n",
    "    plt.show()"
   ]
  },
  {
   "cell_type": "markdown",
   "metadata": {},
   "source": [
    "### Plot Rolling mean and STD"
   ]
  },
  {
   "cell_type": "code",
   "execution_count": null,
   "metadata": {
    "execution": {
     "iopub.execute_input": "2023-06-21T11:12:32.214534Z",
     "iopub.status.busy": "2023-06-21T11:12:32.213839Z",
     "iopub.status.idle": "2023-06-21T11:12:32.939676Z",
     "shell.execute_reply": "2023-06-21T11:12:32.937457Z",
     "shell.execute_reply.started": "2023-06-21T11:12:32.214487Z"
    }
   },
   "outputs": [],
   "source": [
    "fig ,axes =plt.subplots(1,1)\n",
    "fig.set_figheight(6)\n",
    "fig.set_figwidth(16)\n",
    "\n",
    "#Determing rolling statistics\n",
    "rolmean = train_data[[\"Sales\"]].rolling( window=30).mean()\n",
    "rolstd = train_data[[\"Sales\"]].rolling(window=30).std()\n",
    "\n",
    "#Plot rolling statistics:\n",
    "orig = axes.plot(train_data[[\"Sales\"]], color='blue',label='Original')\n",
    "mean = axes.plot(rolmean, color='red', label='Rolling Mean')\n",
    "std = axes.plot(rolstd, color='black', label = 'Rolling Std')\n",
    "axes.legend(loc='best')\n",
    "axes.set_title('Rolling Mean & Standard Deviation')"
   ]
  },
  {
   "cell_type": "markdown",
   "metadata": {},
   "source": [
    "### Check stationarity:"
   ]
  },
  {
   "cell_type": "code",
   "execution_count": null,
   "metadata": {
    "execution": {
     "iopub.execute_input": "2023-06-21T11:12:33.285649Z",
     "iopub.status.busy": "2023-06-21T11:12:33.285076Z",
     "iopub.status.idle": "2023-06-21T11:12:33.36203Z",
     "shell.execute_reply": "2023-06-21T11:12:33.355699Z",
     "shell.execute_reply.started": "2023-06-21T11:12:33.285606Z"
    }
   },
   "outputs": [],
   "source": [
    "adf_test(train_data[[\"Sales\"]])"
   ]
  },
  {
   "cell_type": "code",
   "execution_count": null,
   "metadata": {
    "execution": {
     "iopub.execute_input": "2023-06-21T11:12:33.915149Z",
     "iopub.status.busy": "2023-06-21T11:12:33.914426Z",
     "iopub.status.idle": "2023-06-21T11:12:33.933134Z",
     "shell.execute_reply": "2023-06-21T11:12:33.931592Z",
     "shell.execute_reply.started": "2023-06-21T11:12:33.915086Z"
    }
   },
   "outputs": [],
   "source": [
    "kpss_test(train_data[[\"Sales\"]])"
   ]
  },
  {
   "cell_type": "markdown",
   "metadata": {},
   "source": [
    "### <font color='green'>**In the first look, data seems to be non stationary. Despite that, the tests confirm that the data is stationary. The STD is high but is almost steady across all the winows**</font>"
   ]
  },
  {
   "cell_type": "markdown",
   "metadata": {},
   "source": [
    "### Autocorrelatin Graphs"
   ]
  },
  {
   "cell_type": "code",
   "execution_count": null,
   "metadata": {
    "execution": {
     "iopub.execute_input": "2023-06-21T11:12:36.699702Z",
     "iopub.status.busy": "2023-06-21T11:12:36.699172Z",
     "iopub.status.idle": "2023-06-21T11:12:38.090865Z",
     "shell.execute_reply": "2023-06-21T11:12:38.089048Z",
     "shell.execute_reply.started": "2023-06-21T11:12:36.699664Z"
    }
   },
   "outputs": [],
   "source": [
    "autocorrelatin_graphs(train_data[[\"Sales\"]], n_lags=40, title_text=\"Autocorrelatin Graphs of sales\")"
   ]
  },
  {
   "cell_type": "markdown",
   "metadata": {},
   "source": [
    "### <font color='green'>**The ACF and PACF show a sine wave-like correlation pattern with high positive correlations at lag 7, 14, 21, and so on, it suggests the presence of a seasonal component in the data.**</font>"
   ]
  },
  {
   "cell_type": "markdown",
   "metadata": {},
   "source": [
    "### Arima"
   ]
  },
  {
   "cell_type": "code",
   "execution_count": null,
   "metadata": {
    "execution": {
     "iopub.execute_input": "2023-06-21T12:28:16.480149Z",
     "iopub.status.busy": "2023-06-21T12:28:16.479724Z",
     "iopub.status.idle": "2023-06-21T12:28:16.92821Z",
     "shell.execute_reply": "2023-06-21T12:28:16.927399Z",
     "shell.execute_reply.started": "2023-06-21T12:28:16.480116Z"
    }
   },
   "outputs": [],
   "source": [
    "# fit model\n",
    "ARIMA_model = ARIMA(train_data[[\"Sales\"]], order=(1, 1, 1))\n",
    "ARIMA_model_fit = ARIMA_model.fit()"
   ]
  },
  {
   "cell_type": "code",
   "execution_count": null,
   "metadata": {
    "execution": {
     "iopub.execute_input": "2023-06-21T12:28:17.538518Z",
     "iopub.status.busy": "2023-06-21T12:28:17.537822Z",
     "iopub.status.idle": "2023-06-21T12:28:17.568774Z",
     "shell.execute_reply": "2023-06-21T12:28:17.567968Z",
     "shell.execute_reply.started": "2023-06-21T12:28:17.538483Z"
    }
   },
   "outputs": [],
   "source": [
    "ARIMA_model_fit.summary()"
   ]
  },
  {
   "cell_type": "code",
   "execution_count": null,
   "metadata": {
    "execution": {
     "iopub.execute_input": "2023-06-21T12:28:19.644867Z",
     "iopub.status.busy": "2023-06-21T12:28:19.644137Z",
     "iopub.status.idle": "2023-06-21T12:28:19.660602Z",
     "shell.execute_reply": "2023-06-21T12:28:19.659678Z",
     "shell.execute_reply.started": "2023-06-21T12:28:19.644833Z"
    }
   },
   "outputs": [],
   "source": [
    "start_index = test_data.index.min()\n",
    "end_index = test_data.index.max()\n",
    "\n",
    "#Predictions\n",
    "arima_preds = ARIMA_model_fit.predict(start=start_index, end=end_index)"
   ]
  },
  {
   "cell_type": "markdown",
   "metadata": {},
   "source": [
    "### Make Value of prediction = 0 when The Store is not open"
   ]
  },
  {
   "cell_type": "code",
   "execution_count": null,
   "metadata": {
    "execution": {
     "iopub.execute_input": "2023-06-21T12:28:21.481745Z",
     "iopub.status.busy": "2023-06-21T12:28:21.481081Z",
     "iopub.status.idle": "2023-06-21T12:28:21.48673Z",
     "shell.execute_reply": "2023-06-21T12:28:21.486011Z",
     "shell.execute_reply.started": "2023-06-21T12:28:21.481714Z"
    }
   },
   "outputs": [],
   "source": [
    "arima_preds[test_data[\"Open\"] == 0] = 0"
   ]
  },
  {
   "cell_type": "markdown",
   "metadata": {},
   "source": [
    "### Evaluate performance"
   ]
  },
  {
   "cell_type": "code",
   "execution_count": null,
   "metadata": {
    "execution": {
     "iopub.execute_input": "2023-06-21T12:28:22.391974Z",
     "iopub.status.busy": "2023-06-21T12:28:22.391294Z",
     "iopub.status.idle": "2023-06-21T12:28:22.400164Z",
     "shell.execute_reply": "2023-06-21T12:28:22.398866Z",
     "shell.execute_reply.started": "2023-06-21T12:28:22.391941Z"
    }
   },
   "outputs": [],
   "source": [
    "print(f'RMSPE for Arima on test:{rmspe(arima_preds,test_data[[\"Sales\"]])}')"
   ]
  },
  {
   "cell_type": "code",
   "execution_count": null,
   "metadata": {
    "execution": {
     "iopub.execute_input": "2023-06-21T12:28:22.667595Z",
     "iopub.status.busy": "2023-06-21T12:28:22.667209Z",
     "iopub.status.idle": "2023-06-21T12:28:23.307225Z",
     "shell.execute_reply": "2023-06-21T12:28:23.306193Z",
     "shell.execute_reply.started": "2023-06-21T12:28:22.667566Z"
    }
   },
   "outputs": [],
   "source": [
    "fig ,axes =plt.subplots(2,1)\n",
    "fig.set_figheight(6)\n",
    "fig.set_figwidth(16)\n",
    "\n",
    "axes[0].plot(train_data[\"Sales\"], label='Train',color='blue')\n",
    "axes[0].plot(test_data[\"Sales\"], label='Test',color='orange')\n",
    "\n",
    "axes[0].plot(arima_preds,label=\"Arima\",color='red')\n",
    "axes[0].legend(loc='best')\n",
    "\n",
    "axes[1].plot(test_data[\"Sales\"], label='Test',color='orange')\n",
    "axes[1].plot(arima_preds,label=\"Arima\",color='red')\n",
    "axes[1].legend(loc='best')\n",
    "plt.show()"
   ]
  },
  {
   "cell_type": "markdown",
   "metadata": {},
   "source": [
    "### SARIMAX"
   ]
  },
  {
   "cell_type": "markdown",
   "metadata": {},
   "source": [
    "#### <font color='green'>**Considering the characteristics, an appropriate model to capture the seasonality and the sine wave-like patterns would be the SARIMA (Seasonal Autoregressive Integrated Moving Average) model. SARIMA is an extension of the ARIMA model that incorporates seasonal components.**</font>"
   ]
  },
  {
   "cell_type": "code",
   "execution_count": null,
   "metadata": {
    "execution": {
     "iopub.execute_input": "2023-06-21T12:52:09.554961Z",
     "iopub.status.busy": "2023-06-21T12:52:09.554537Z",
     "iopub.status.idle": "2023-06-21T12:52:15.53279Z",
     "shell.execute_reply": "2023-06-21T12:52:15.531167Z",
     "shell.execute_reply.started": "2023-06-21T12:52:09.554932Z"
    }
   },
   "outputs": [],
   "source": [
    "# fit model\n",
    "SARIMAX_model = SARIMAX(train_data[[\"Sales\"]], order=(1, 1, 1), seasonal_order=(1, 1, 1, 7))\n",
    "SARIMAX_model_fit = SARIMAX_model.fit()"
   ]
  },
  {
   "cell_type": "code",
   "execution_count": null,
   "metadata": {
    "execution": {
     "iopub.execute_input": "2023-06-21T12:52:15.546768Z",
     "iopub.status.busy": "2023-06-21T12:52:15.541616Z",
     "iopub.status.idle": "2023-06-21T12:52:15.607978Z",
     "shell.execute_reply": "2023-06-21T12:52:15.606731Z",
     "shell.execute_reply.started": "2023-06-21T12:52:15.546685Z"
    }
   },
   "outputs": [],
   "source": [
    "SARIMAX_model_fit.summary()"
   ]
  },
  {
   "cell_type": "code",
   "execution_count": null,
   "metadata": {
    "execution": {
     "iopub.execute_input": "2023-06-21T12:52:15.610674Z",
     "iopub.status.busy": "2023-06-21T12:52:15.609575Z",
     "iopub.status.idle": "2023-06-21T12:52:15.632203Z",
     "shell.execute_reply": "2023-06-21T12:52:15.630899Z",
     "shell.execute_reply.started": "2023-06-21T12:52:15.610625Z"
    }
   },
   "outputs": [],
   "source": [
    "start_index = test_data.index.min()\n",
    "end_index = test_data.index.max()\n",
    "\n",
    "#Predictions\n",
    "SARIMAX_preds = SARIMAX_model_fit.predict(start=start_index, end=end_index)"
   ]
  },
  {
   "cell_type": "markdown",
   "metadata": {},
   "source": [
    "### Make Value of prediction = 0 when The Store is not open"
   ]
  },
  {
   "cell_type": "code",
   "execution_count": null,
   "metadata": {
    "execution": {
     "iopub.execute_input": "2023-06-21T12:52:15.635507Z",
     "iopub.status.busy": "2023-06-21T12:52:15.634998Z",
     "iopub.status.idle": "2023-06-21T12:52:15.644111Z",
     "shell.execute_reply": "2023-06-21T12:52:15.642772Z",
     "shell.execute_reply.started": "2023-06-21T12:52:15.635463Z"
    }
   },
   "outputs": [],
   "source": [
    "SARIMAX_preds[test_data[\"Open\"] == 0] = 0"
   ]
  },
  {
   "cell_type": "code",
   "execution_count": null,
   "metadata": {
    "execution": {
     "iopub.execute_input": "2023-06-21T12:52:15.646231Z",
     "iopub.status.busy": "2023-06-21T12:52:15.645787Z",
     "iopub.status.idle": "2023-06-21T12:52:15.662313Z",
     "shell.execute_reply": "2023-06-21T12:52:15.660952Z",
     "shell.execute_reply.started": "2023-06-21T12:52:15.646198Z"
    }
   },
   "outputs": [],
   "source": [
    "print(f'RMSPE for SARIMAX on test:{rmspe(SARIMAX_preds,test_data[[\"Sales\"]])}')"
   ]
  },
  {
   "cell_type": "code",
   "execution_count": null,
   "metadata": {
    "execution": {
     "iopub.execute_input": "2023-06-21T12:52:15.664129Z",
     "iopub.status.busy": "2023-06-21T12:52:15.663766Z",
     "iopub.status.idle": "2023-06-21T12:52:16.417909Z",
     "shell.execute_reply": "2023-06-21T12:52:16.416995Z",
     "shell.execute_reply.started": "2023-06-21T12:52:15.664101Z"
    }
   },
   "outputs": [],
   "source": [
    "fig ,axes =plt.subplots(2,1)\n",
    "fig.set_figheight(6)\n",
    "fig.set_figwidth(16)\n",
    "\n",
    "axes[0].plot(train_data[\"Sales\"], label='Train',color='blue')\n",
    "axes[0].plot(test_data[\"Sales\"], label='Test',color='orange')\n",
    "\n",
    "axes[0].plot(SARIMAX_preds,label=\"SARIMAX\",color='red')\n",
    "axes[0].legend(loc='best')\n",
    "\n",
    "axes[1].plot(test_data[\"Sales\"], label='Test',color='orange')\n",
    "axes[1].plot(SARIMAX_preds,label=\"SARIMAX\",color='red')\n",
    "axes[1].legend(loc='best')\n",
    "plt.show()"
   ]
  },
  {
   "cell_type": "markdown",
   "metadata": {},
   "source": [
    "### Auto Arima"
   ]
  },
  {
   "cell_type": "code",
   "execution_count": null,
   "metadata": {
    "execution": {
     "iopub.execute_input": "2023-06-21T12:46:17.893119Z",
     "iopub.status.busy": "2023-06-21T12:46:17.89239Z",
     "iopub.status.idle": "2023-06-21T12:50:05.040128Z",
     "shell.execute_reply": "2023-06-21T12:50:05.039138Z",
     "shell.execute_reply.started": "2023-06-21T12:46:17.893085Z"
    }
   },
   "outputs": [],
   "source": [
    "stepwise_model = auto_arima(train_data[[\"Sales\"]],start_p=1, start_q=1,d=1, max_p=3, max_q=3,\n",
    "                            seasonal=True, start_P =1, start_Q=1, D=1, max_Q=3, max_P=3, max_order=12, m=7,\n",
    "                            trace=True,stationary=True,error_action='ignore',\n",
    "                            suppress_warnings=True, stepwise=True)\n",
    "stepwise_model.summary()"
   ]
  },
  {
   "cell_type": "code",
   "execution_count": null,
   "metadata": {
    "execution": {
     "iopub.execute_input": "2023-06-21T12:50:17.62839Z",
     "iopub.status.busy": "2023-06-21T12:50:17.627838Z",
     "iopub.status.idle": "2023-06-21T12:50:17.663473Z",
     "shell.execute_reply": "2023-06-21T12:50:17.661838Z",
     "shell.execute_reply.started": "2023-06-21T12:50:17.628348Z"
    }
   },
   "outputs": [],
   "source": [
    "length = len(test_data)\n",
    "\n",
    "#Predictions\n",
    "auto_arima_forecast,conf_int = stepwise_model.predict(n_periods=length,return_conf_int=True)"
   ]
  },
  {
   "cell_type": "markdown",
   "metadata": {},
   "source": [
    "### Make Value of prediction = 0 when The Store is not open"
   ]
  },
  {
   "cell_type": "code",
   "execution_count": null,
   "metadata": {
    "execution": {
     "iopub.execute_input": "2023-06-21T12:50:19.287375Z",
     "iopub.status.busy": "2023-06-21T12:50:19.286486Z",
     "iopub.status.idle": "2023-06-21T12:50:19.296251Z",
     "shell.execute_reply": "2023-06-21T12:50:19.294996Z",
     "shell.execute_reply.started": "2023-06-21T12:50:19.287331Z"
    }
   },
   "outputs": [],
   "source": [
    "auto_arima_forecast[test_data[\"Open\"] == 0] = 0"
   ]
  },
  {
   "cell_type": "code",
   "execution_count": null,
   "metadata": {
    "execution": {
     "iopub.execute_input": "2023-06-21T12:50:21.256528Z",
     "iopub.status.busy": "2023-06-21T12:50:21.255651Z",
     "iopub.status.idle": "2023-06-21T12:50:21.266951Z",
     "shell.execute_reply": "2023-06-21T12:50:21.265718Z",
     "shell.execute_reply.started": "2023-06-21T12:50:21.256481Z"
    }
   },
   "outputs": [],
   "source": [
    "print(f'RMSPE for Auto Arima on test:{rmspe(auto_arima_forecast,test_data[[\"Sales\"]])}')"
   ]
  },
  {
   "cell_type": "code",
   "execution_count": null,
   "metadata": {
    "execution": {
     "iopub.execute_input": "2023-06-21T12:50:24.458692Z",
     "iopub.status.busy": "2023-06-21T12:50:24.457564Z",
     "iopub.status.idle": "2023-06-21T12:50:25.189174Z",
     "shell.execute_reply": "2023-06-21T12:50:25.188151Z",
     "shell.execute_reply.started": "2023-06-21T12:50:24.458644Z"
    }
   },
   "outputs": [],
   "source": [
    "fig ,axes =plt.subplots(2,1)\n",
    "fig.set_figheight(6)\n",
    "fig.set_figwidth(16)\n",
    "\n",
    "axes[0].plot(train_data[\"Sales\"], label='Train',color='blue')\n",
    "axes[0].plot(test_data[\"Sales\"], label='Test',color='orange')\n",
    "\n",
    "axes[0].plot(auto_arima_forecast,label=\"Auto Arima\",color='red')\n",
    "axes[0].legend(loc='best')\n",
    "\n",
    "axes[1].plot(test_data[\"Sales\"], label='Test',color='orange')\n",
    "axes[1].plot(auto_arima_forecast,label=\"Auto Arima\",color='red')\n",
    "axes[1].legend(loc='best')\n",
    "plt.show()"
   ]
  },
  {
   "cell_type": "markdown",
   "metadata": {},
   "source": [
    "## **D- Prophet**"
   ]
  },
  {
   "cell_type": "markdown",
   "metadata": {},
   "source": [
    "### Define preparing data function"
   ]
  },
  {
   "cell_type": "code",
   "execution_count": null,
   "metadata": {
    "execution": {
     "iopub.execute_input": "2023-06-21T11:40:39.208126Z",
     "iopub.status.busy": "2023-06-21T11:40:39.207635Z",
     "iopub.status.idle": "2023-06-21T11:40:39.218392Z",
     "shell.execute_reply": "2023-06-21T11:40:39.217314Z",
     "shell.execute_reply.started": "2023-06-21T11:40:39.208089Z"
    }
   },
   "outputs": [],
   "source": [
    "def prepare_df_prophet(df, Type=\"train\"):\n",
    "    new_df = df.copy(deep=True)\n",
    "    new_df.drop([\"Store\",\"StateHoliday\"], inplace=True, axis=1)\n",
    "    new_df['Day'] = new_df.index.day.astype(int)\n",
    "    new_df['Month'] = new_df.index.month.astype(int)\n",
    "    new_df['Year'] = new_df.index.year.astype(int)\n",
    "    new_df['DayOfYear'] = new_df.index.dayofyear.astype(int)\n",
    "    new_df['WeekOfYear'] = new_df.index.isocalendar().week.astype(int)\n",
    "    new_df = new_df.reset_index()\n",
    "    new_df.rename({\"Sales\": \"y\", \"Date\" : \"ds\"},axis=1, inplace = True)\n",
    "    if Type == \"test\":\n",
    "        new_df.drop(\"y\", axis=1, inplace=True)\n",
    "    return new_df"
   ]
  },
  {
   "cell_type": "code",
   "execution_count": null,
   "metadata": {
    "execution": {
     "iopub.execute_input": "2023-06-21T11:40:39.945696Z",
     "iopub.status.busy": "2023-06-21T11:40:39.944819Z",
     "iopub.status.idle": "2023-06-21T11:40:39.961587Z",
     "shell.execute_reply": "2023-06-21T11:40:39.960447Z",
     "shell.execute_reply.started": "2023-06-21T11:40:39.945649Z"
    }
   },
   "outputs": [],
   "source": [
    "train_prophet = prepare_df_prophet(train_data)"
   ]
  },
  {
   "cell_type": "code",
   "execution_count": null,
   "metadata": {
    "execution": {
     "iopub.execute_input": "2023-06-21T11:40:40.374182Z",
     "iopub.status.busy": "2023-06-21T11:40:40.373797Z",
     "iopub.status.idle": "2023-06-21T11:40:40.381773Z",
     "shell.execute_reply": "2023-06-21T11:40:40.380538Z",
     "shell.execute_reply.started": "2023-06-21T11:40:40.374152Z"
    }
   },
   "outputs": [],
   "source": [
    "train_prophet.columns"
   ]
  },
  {
   "cell_type": "markdown",
   "metadata": {},
   "source": [
    "### Create model instance and adding all features as regressors"
   ]
  },
  {
   "cell_type": "code",
   "execution_count": null,
   "metadata": {
    "execution": {
     "iopub.execute_input": "2023-06-21T11:40:41.240446Z",
     "iopub.status.busy": "2023-06-21T11:40:41.240019Z",
     "iopub.status.idle": "2023-06-21T11:40:41.247677Z",
     "shell.execute_reply": "2023-06-21T11:40:41.24634Z",
     "shell.execute_reply.started": "2023-06-21T11:40:41.240413Z"
    }
   },
   "outputs": [],
   "source": [
    "Prophet_model = Prophet()\n",
    "\n",
    "regressors = ['DayOfWeek', 'Open', 'Promo', 'SchoolHoliday', 'Day',\n",
    "              'Month', 'Year', 'DayOfYear', 'WeekOfYear']\n",
    "\n",
    "for regressor in regressors:\n",
    "    Prophet_model.add_regressor(regressor)"
   ]
  },
  {
   "cell_type": "markdown",
   "metadata": {},
   "source": [
    "### Model fitting"
   ]
  },
  {
   "cell_type": "code",
   "execution_count": null,
   "metadata": {
    "execution": {
     "iopub.execute_input": "2023-06-21T11:40:43.897381Z",
     "iopub.status.busy": "2023-06-21T11:40:43.89682Z",
     "iopub.status.idle": "2023-06-21T11:40:44.139514Z",
     "shell.execute_reply": "2023-06-21T11:40:44.137909Z",
     "shell.execute_reply.started": "2023-06-21T11:40:43.897336Z"
    }
   },
   "outputs": [],
   "source": [
    "Prophet_model.fit(train_prophet)"
   ]
  },
  {
   "cell_type": "markdown",
   "metadata": {},
   "source": [
    "### Prepare test dataset"
   ]
  },
  {
   "cell_type": "code",
   "execution_count": null,
   "metadata": {
    "execution": {
     "iopub.execute_input": "2023-06-21T11:42:10.744848Z",
     "iopub.status.busy": "2023-06-21T11:42:10.744411Z",
     "iopub.status.idle": "2023-06-21T11:42:10.758731Z",
     "shell.execute_reply": "2023-06-21T11:42:10.757515Z",
     "shell.execute_reply.started": "2023-06-21T11:42:10.744816Z"
    }
   },
   "outputs": [],
   "source": [
    "test_prophet = prepare_df_prophet(test_data, Type=\"test\")"
   ]
  },
  {
   "cell_type": "code",
   "execution_count": null,
   "metadata": {
    "execution": {
     "iopub.execute_input": "2023-06-21T11:42:12.389163Z",
     "iopub.status.busy": "2023-06-21T11:42:12.38837Z",
     "iopub.status.idle": "2023-06-21T11:42:12.85202Z",
     "shell.execute_reply": "2023-06-21T11:42:12.851035Z",
     "shell.execute_reply.started": "2023-06-21T11:42:12.389131Z"
    }
   },
   "outputs": [],
   "source": [
    "forecast = Prophet_model.predict(test_prophet)"
   ]
  },
  {
   "cell_type": "code",
   "execution_count": null,
   "metadata": {
    "execution": {
     "iopub.execute_input": "2023-06-21T11:42:14.059297Z",
     "iopub.status.busy": "2023-06-21T11:42:14.058684Z",
     "iopub.status.idle": "2023-06-21T11:42:14.066841Z",
     "shell.execute_reply": "2023-06-21T11:42:14.065653Z",
     "shell.execute_reply.started": "2023-06-21T11:42:14.059247Z"
    }
   },
   "outputs": [],
   "source": [
    "prophet_preds = forecast.copy(deep=True)\n",
    "prophet_preds = prophet_preds.set_index(\"ds\")[\"yhat\"].clip(lower=0)"
   ]
  },
  {
   "cell_type": "markdown",
   "metadata": {},
   "source": [
    "### Make Value of prediction = 0 when The Store is not open"
   ]
  },
  {
   "cell_type": "code",
   "execution_count": null,
   "metadata": {
    "execution": {
     "iopub.execute_input": "2023-06-21T11:42:15.146042Z",
     "iopub.status.busy": "2023-06-21T11:42:15.145637Z",
     "iopub.status.idle": "2023-06-21T11:42:15.152803Z",
     "shell.execute_reply": "2023-06-21T11:42:15.151287Z",
     "shell.execute_reply.started": "2023-06-21T11:42:15.14601Z"
    }
   },
   "outputs": [],
   "source": [
    "prophet_preds[test_data[\"Open\"] == 0] = 0"
   ]
  },
  {
   "cell_type": "markdown",
   "metadata": {},
   "source": [
    "### Evaluate performance"
   ]
  },
  {
   "cell_type": "code",
   "execution_count": null,
   "metadata": {
    "execution": {
     "iopub.execute_input": "2023-06-21T11:42:16.826817Z",
     "iopub.status.busy": "2023-06-21T11:42:16.826423Z",
     "iopub.status.idle": "2023-06-21T11:42:16.834526Z",
     "shell.execute_reply": "2023-06-21T11:42:16.833213Z",
     "shell.execute_reply.started": "2023-06-21T11:42:16.826787Z"
    }
   },
   "outputs": [],
   "source": [
    "print(f'RMSPE for Prophet on Test:{rmspe(prophet_preds,test_data[\"Sales\"])}')"
   ]
  },
  {
   "cell_type": "markdown",
   "metadata": {},
   "source": [
    "### Plot predictions"
   ]
  },
  {
   "cell_type": "code",
   "execution_count": null,
   "metadata": {
    "execution": {
     "iopub.execute_input": "2023-06-21T11:42:23.683749Z",
     "iopub.status.busy": "2023-06-21T11:42:23.683352Z",
     "iopub.status.idle": "2023-06-21T11:42:24.414755Z",
     "shell.execute_reply": "2023-06-21T11:42:24.413632Z",
     "shell.execute_reply.started": "2023-06-21T11:42:23.683714Z"
    }
   },
   "outputs": [],
   "source": [
    "fig ,axes =plt.subplots(2,1)\n",
    "fig.set_figheight(6)\n",
    "fig.set_figwidth(16)\n",
    "\n",
    "axes[0].plot(train_data[\"Sales\"], label='Train',color='blue')\n",
    "axes[0].plot(test_data[\"Sales\"], label='Test',color='orange')\n",
    "\n",
    "axes[0].plot(prophet_preds,label=\"Prophet\",color='red')\n",
    "axes[0].legend(loc='best')\n",
    "\n",
    "axes[1].plot(test_data[\"Sales\"], label='Test',color='orange')\n",
    "axes[1].plot(prophet_preds,label=\"Prophet\",color='red')\n",
    "axes[1].legend(loc='best')\n",
    "plt.show()"
   ]
  },
  {
   "cell_type": "markdown",
   "metadata": {},
   "source": [
    "### Fine Tuning"
   ]
  },
  {
   "cell_type": "code",
   "execution_count": null,
   "metadata": {
    "execution": {
     "iopub.execute_input": "2023-06-21T11:42:42.221842Z",
     "iopub.status.busy": "2023-06-21T11:42:42.22143Z",
     "iopub.status.idle": "2023-06-21T11:46:03.060322Z",
     "shell.execute_reply": "2023-06-21T11:46:03.058794Z",
     "shell.execute_reply.started": "2023-06-21T11:42:42.221811Z"
    }
   },
   "outputs": [],
   "source": [
    "regressors = ['DayOfWeek', 'Open', 'Promo', 'SchoolHoliday', 'Day',\n",
    "              'Month', 'Year', 'DayOfYear', 'WeekOfYear']\n",
    "\n",
    "train_prophet = prepare_df_prophet(train_data)\n",
    "\n",
    "test_prophet = prepare_df_prophet(test_data, Type=\"test\")\n",
    "\n",
    "# Define the parameter grid\n",
    "param_grid = {\n",
    "    'changepoint_prior_scale':[0.1,0.2,0.3,0.4,0.5],\n",
    "    'seasonality_prior_scale': [0.01, 0.1, 1.0],\n",
    "    'holidays_prior_scale':[0.1,0.2,0.3,0.4,0.5],\n",
    "    'changepoint_range': [0.8, 0.9, 1.0],\n",
    "}\n",
    "\n",
    "best_model = None\n",
    "best_param = None\n",
    "best_rmspe = float('inf')\n",
    "\n",
    "# Iterate over all combinations of parameters\n",
    "for params in tqdm(ParameterGrid(param_grid)):\n",
    "    # Create a new Prophet model with the specified parameters\n",
    "    model = Prophet(**params)\n",
    "\n",
    "    # Add regressors to the model\n",
    "    for regressor in regressors:\n",
    "        model.add_regressor(regressor)\n",
    "\n",
    "    # Fit the model to the training data\n",
    "    model.fit(train_prophet)\n",
    "\n",
    "    # Make predictions on the test data\n",
    "    forecast = model.predict(test_prophet)\n",
    "    prophet_preds = forecast.set_index(\"ds\")[\"yhat\"].clip(lower=0)\n",
    "    prophet_preds[test_data[\"Open\"] == 0] = 0\n",
    "\n",
    "    # Calculate RMSPE\n",
    "    rmspe_score = rmspe(prophet_preds, test_data[\"Sales\"])\n",
    "\n",
    "    # Check if the current model is the best so far\n",
    "    if rmspe_score < best_rmspe:\n",
    "        best_rmspe = rmspe_score\n",
    "        print(f\"  Found new best RMSPE: {best_rmspe}\")\n",
    "        best_model = model\n",
    "        best_param = params\n",
    "\n",
    "# Print the RMSPE of the best model\n",
    "print(f\"Best RMSPE: {best_rmspe}\")\n",
    "print(f\"Best Params: {best_param}\")"
   ]
  },
  {
   "cell_type": "code",
   "execution_count": null,
   "metadata": {
    "execution": {
     "iopub.execute_input": "2023-06-21T11:46:03.063452Z",
     "iopub.status.busy": "2023-06-21T11:46:03.062969Z",
     "iopub.status.idle": "2023-06-21T11:46:03.543449Z",
     "shell.execute_reply": "2023-06-21T11:46:03.542049Z",
     "shell.execute_reply.started": "2023-06-21T11:46:03.063409Z"
    }
   },
   "outputs": [],
   "source": [
    "forecast = best_model.predict(test_prophet)"
   ]
  },
  {
   "cell_type": "markdown",
   "metadata": {},
   "source": [
    "### Evaluate performance of best model"
   ]
  },
  {
   "cell_type": "code",
   "execution_count": null,
   "metadata": {
    "execution": {
     "iopub.execute_input": "2023-06-21T11:46:03.546197Z",
     "iopub.status.busy": "2023-06-21T11:46:03.545273Z",
     "iopub.status.idle": "2023-06-21T11:46:03.556971Z",
     "shell.execute_reply": "2023-06-21T11:46:03.555706Z",
     "shell.execute_reply.started": "2023-06-21T11:46:03.546157Z"
    }
   },
   "outputs": [],
   "source": [
    "prophet_preds = forecast.copy(deep=True)\n",
    "prophet_preds = prophet_preds.set_index(\"ds\")[\"yhat\"].clip(lower=0)\n",
    "print(f'RMSPE for Prophet on Test:{rmspe(prophet_preds,test_data[\"Sales\"])}')"
   ]
  },
  {
   "cell_type": "markdown",
   "metadata": {},
   "source": [
    "### Plot predictions of best model"
   ]
  },
  {
   "cell_type": "code",
   "execution_count": null,
   "metadata": {
    "execution": {
     "iopub.execute_input": "2023-06-21T11:46:03.560128Z",
     "iopub.status.busy": "2023-06-21T11:46:03.559772Z",
     "iopub.status.idle": "2023-06-21T11:46:04.276334Z",
     "shell.execute_reply": "2023-06-21T11:46:04.275083Z",
     "shell.execute_reply.started": "2023-06-21T11:46:03.560099Z"
    }
   },
   "outputs": [],
   "source": [
    "fig ,axes =plt.subplots(2,1)\n",
    "fig.set_figheight(6)\n",
    "fig.set_figwidth(16)\n",
    "\n",
    "axes[0].plot(train_data[\"Sales\"], label='Train',color='blue')\n",
    "axes[0].plot(test_data[\"Sales\"], label='Test',color='orange')\n",
    "\n",
    "axes[0].plot(prophet_preds,label=\"Prophet\",color='red')\n",
    "axes[0].legend(loc='best')\n",
    "\n",
    "axes[1].plot(test_data[\"Sales\"], label='Test',color='orange')\n",
    "axes[1].plot(prophet_preds,label=\"Prophet\",color='red')\n",
    "axes[1].legend(loc='best')\n",
    "plt.show()"
   ]
  },
  {
   "cell_type": "markdown",
   "metadata": {},
   "source": [
    "---"
   ]
  },
  {
   "cell_type": "markdown",
   "metadata": {},
   "source": [
    "# 7. <a name=\"7\">**Machine Learning model**</a>\n",
    "(<a href=\"#0\">Go to top</a>)"
   ]
  },
  {
   "cell_type": "code",
   "execution_count": null,
   "metadata": {
    "execution": {
     "iopub.execute_input": "2023-06-21T11:46:16.547049Z",
     "iopub.status.busy": "2023-06-21T11:46:16.546561Z",
     "iopub.status.idle": "2023-06-21T11:46:16.554502Z",
     "shell.execute_reply": "2023-06-21T11:46:16.553328Z",
     "shell.execute_reply.started": "2023-06-21T11:46:16.547013Z"
    }
   },
   "outputs": [],
   "source": [
    "train_size = int(len(df) * 0.8)\n",
    "train_data = df[:train_size].copy(deep=True)\n",
    "test_data = df[train_size:].copy(deep=True)"
   ]
  },
  {
   "cell_type": "markdown",
   "metadata": {},
   "source": [
    "### Prepare df function"
   ]
  },
  {
   "cell_type": "code",
   "execution_count": null,
   "metadata": {
    "execution": {
     "iopub.execute_input": "2023-06-21T11:46:19.081375Z",
     "iopub.status.busy": "2023-06-21T11:46:19.080936Z",
     "iopub.status.idle": "2023-06-21T11:46:19.089922Z",
     "shell.execute_reply": "2023-06-21T11:46:19.088799Z",
     "shell.execute_reply.started": "2023-06-21T11:46:19.081342Z"
    }
   },
   "outputs": [],
   "source": [
    "def prepare_df_ml(df):\n",
    "    new_df = df.copy(deep=True)\n",
    "    new_df.drop([\"Store\",\"StateHoliday\"], inplace=True, axis=1)\n",
    "    new_df['Day'] = new_df.index.day.astype(int)\n",
    "    new_df['Month'] = new_df.index.month.astype(int)\n",
    "    new_df['Year'] = new_df.index.year.astype(int)\n",
    "    new_df['DayOfYear'] = new_df.index.dayofyear.astype(int)\n",
    "    new_df['WeekOfYear'] = new_df.index.isocalendar().week.astype(int)\n",
    "    df_prep_X = new_df.drop(\"Sales\", axis=1)\n",
    "    df_prep_Y = new_df[\"Sales\"]\n",
    "    return df_prep_X, df_prep_Y"
   ]
  },
  {
   "cell_type": "markdown",
   "metadata": {},
   "source": [
    "### Prepare training data"
   ]
  },
  {
   "cell_type": "code",
   "execution_count": null,
   "metadata": {
    "execution": {
     "iopub.execute_input": "2023-06-21T11:46:19.74393Z",
     "iopub.status.busy": "2023-06-21T11:46:19.74352Z",
     "iopub.status.idle": "2023-06-21T11:46:19.75789Z",
     "shell.execute_reply": "2023-06-21T11:46:19.756939Z",
     "shell.execute_reply.started": "2023-06-21T11:46:19.743898Z"
    }
   },
   "outputs": [],
   "source": [
    "train_prep_X, train_prep_Y = prepare_df_ml(train_data)"
   ]
  },
  {
   "cell_type": "code",
   "execution_count": null,
   "metadata": {
    "execution": {
     "iopub.execute_input": "2023-06-21T11:46:19.969401Z",
     "iopub.status.busy": "2023-06-21T11:46:19.968315Z",
     "iopub.status.idle": "2023-06-21T11:46:19.982146Z",
     "shell.execute_reply": "2023-06-21T11:46:19.981155Z",
     "shell.execute_reply.started": "2023-06-21T11:46:19.969364Z"
    }
   },
   "outputs": [],
   "source": [
    "train_prep_X.head()"
   ]
  },
  {
   "cell_type": "code",
   "execution_count": null,
   "metadata": {
    "execution": {
     "iopub.execute_input": "2023-06-21T11:46:20.39745Z",
     "iopub.status.busy": "2023-06-21T11:46:20.396346Z",
     "iopub.status.idle": "2023-06-21T11:46:20.406052Z",
     "shell.execute_reply": "2023-06-21T11:46:20.404981Z",
     "shell.execute_reply.started": "2023-06-21T11:46:20.397415Z"
    }
   },
   "outputs": [],
   "source": [
    "train_prep_Y"
   ]
  },
  {
   "cell_type": "markdown",
   "metadata": {},
   "source": [
    "### Model fitting"
   ]
  },
  {
   "cell_type": "code",
   "execution_count": null,
   "metadata": {
    "execution": {
     "iopub.execute_input": "2023-06-21T11:46:22.510766Z",
     "iopub.status.busy": "2023-06-21T11:46:22.51034Z",
     "iopub.status.idle": "2023-06-21T11:46:22.516993Z",
     "shell.execute_reply": "2023-06-21T11:46:22.515255Z",
     "shell.execute_reply.started": "2023-06-21T11:46:22.510733Z"
    }
   },
   "outputs": [],
   "source": [
    "lgbm_model = LGBMRegressor(random_state=42)"
   ]
  },
  {
   "cell_type": "code",
   "execution_count": null,
   "metadata": {
    "execution": {
     "iopub.execute_input": "2023-06-21T11:46:24.364106Z",
     "iopub.status.busy": "2023-06-21T11:46:24.363389Z",
     "iopub.status.idle": "2023-06-21T11:46:24.380925Z",
     "shell.execute_reply": "2023-06-21T11:46:24.379923Z",
     "shell.execute_reply.started": "2023-06-21T11:46:24.364063Z"
    }
   },
   "outputs": [],
   "source": [
    "train_prep_X.info()"
   ]
  },
  {
   "cell_type": "code",
   "execution_count": null,
   "metadata": {
    "execution": {
     "iopub.execute_input": "2023-06-21T11:46:24.569721Z",
     "iopub.status.busy": "2023-06-21T11:46:24.568503Z",
     "iopub.status.idle": "2023-06-21T11:46:25.099748Z",
     "shell.execute_reply": "2023-06-21T11:46:25.098642Z",
     "shell.execute_reply.started": "2023-06-21T11:46:24.569676Z"
    }
   },
   "outputs": [],
   "source": [
    "lgbm_model.fit(train_prep_X, train_prep_Y)"
   ]
  },
  {
   "cell_type": "markdown",
   "metadata": {},
   "source": [
    "### Performance on train"
   ]
  },
  {
   "cell_type": "code",
   "execution_count": null,
   "metadata": {
    "execution": {
     "iopub.execute_input": "2023-06-21T11:46:25.544964Z",
     "iopub.status.busy": "2023-06-21T11:46:25.54457Z",
     "iopub.status.idle": "2023-06-21T11:46:25.562124Z",
     "shell.execute_reply": "2023-06-21T11:46:25.560702Z",
     "shell.execute_reply.started": "2023-06-21T11:46:25.544936Z"
    }
   },
   "outputs": [],
   "source": [
    "lgbm_train_preds = lgbm_model.predict(train_prep_X)\n",
    "lgbm_train_preds = pd.Series(lgbm_train_preds, index= train_prep_X.index)\n",
    "lgbm_train_preds = lgbm_train_preds.clip(lower=0)\n",
    "lgbm_train_preds[train_prep_X[\"Open\"] == 0] = 0\n",
    "print(f'RMSPE for LGBM on Train:{rmspe(lgbm_train_preds,train_prep_Y)}')"
   ]
  },
  {
   "cell_type": "markdown",
   "metadata": {},
   "source": [
    "### Prepare testing data"
   ]
  },
  {
   "cell_type": "code",
   "execution_count": null,
   "metadata": {
    "execution": {
     "iopub.execute_input": "2023-06-21T11:46:29.031827Z",
     "iopub.status.busy": "2023-06-21T11:46:29.031427Z",
     "iopub.status.idle": "2023-06-21T11:46:29.044046Z",
     "shell.execute_reply": "2023-06-21T11:46:29.042997Z",
     "shell.execute_reply.started": "2023-06-21T11:46:29.031796Z"
    }
   },
   "outputs": [],
   "source": [
    "test_prep_X, test_prep_Y = prepare_df_ml(test_data)"
   ]
  },
  {
   "cell_type": "code",
   "execution_count": null,
   "metadata": {
    "execution": {
     "iopub.execute_input": "2023-06-21T11:46:30.776879Z",
     "iopub.status.busy": "2023-06-21T11:46:30.776466Z",
     "iopub.status.idle": "2023-06-21T11:46:30.798226Z",
     "shell.execute_reply": "2023-06-21T11:46:30.797127Z",
     "shell.execute_reply.started": "2023-06-21T11:46:30.776849Z"
    }
   },
   "outputs": [],
   "source": [
    "test_prep_X"
   ]
  },
  {
   "cell_type": "code",
   "execution_count": null,
   "metadata": {
    "execution": {
     "iopub.execute_input": "2023-06-21T11:46:30.996205Z",
     "iopub.status.busy": "2023-06-21T11:46:30.995796Z",
     "iopub.status.idle": "2023-06-21T11:46:31.00658Z",
     "shell.execute_reply": "2023-06-21T11:46:31.00478Z",
     "shell.execute_reply.started": "2023-06-21T11:46:30.996166Z"
    }
   },
   "outputs": [],
   "source": [
    "lgbm_preds = lgbm_model.predict(test_prep_X)"
   ]
  },
  {
   "cell_type": "markdown",
   "metadata": {},
   "source": [
    "### Performance on test"
   ]
  },
  {
   "cell_type": "code",
   "execution_count": null,
   "metadata": {
    "execution": {
     "iopub.execute_input": "2023-06-21T11:46:34.139177Z",
     "iopub.status.busy": "2023-06-21T11:46:34.138791Z",
     "iopub.status.idle": "2023-06-21T11:46:34.152498Z",
     "shell.execute_reply": "2023-06-21T11:46:34.151311Z",
     "shell.execute_reply.started": "2023-06-21T11:46:34.139148Z"
    }
   },
   "outputs": [],
   "source": [
    "lgbm_test_preds = lgbm_model.predict(test_prep_X)\n",
    "lgbm_test_preds = pd.Series(lgbm_test_preds, index= test_prep_X.index)\n",
    "lgbm_test_preds = lgbm_test_preds.clip(lower=0)\n",
    "lgbm_test_preds[test_prep_X[\"Open\"] == 0] = 0\n",
    "print(f'RMSPE for LGBM on Test:{rmspe(lgbm_test_preds,test_prep_Y)}')"
   ]
  },
  {
   "cell_type": "markdown",
   "metadata": {},
   "source": [
    "### Plot predictions"
   ]
  },
  {
   "cell_type": "code",
   "execution_count": null,
   "metadata": {
    "execution": {
     "iopub.execute_input": "2023-06-21T11:46:36.351133Z",
     "iopub.status.busy": "2023-06-21T11:46:36.350733Z",
     "iopub.status.idle": "2023-06-21T11:46:37.064371Z",
     "shell.execute_reply": "2023-06-21T11:46:37.063003Z",
     "shell.execute_reply.started": "2023-06-21T11:46:36.351102Z"
    }
   },
   "outputs": [],
   "source": [
    "fig ,axes =plt.subplots(2,1)\n",
    "fig.set_figheight(6)\n",
    "fig.set_figwidth(16)\n",
    "\n",
    "axes[0].plot(train_data[\"Sales\"], label='Train',color='blue')\n",
    "axes[0].plot(test_data[\"Sales\"], label='Test',color='orange')\n",
    "\n",
    "axes[0].plot(lgbm_test_preds,label=\"LGBM\",color='red')\n",
    "axes[0].legend(loc='best')\n",
    "\n",
    "axes[1].plot(test_data[\"Sales\"], label='Test',color='orange')\n",
    "axes[1].plot(lgbm_test_preds,label=\"LGBM\",color='red')\n",
    "axes[1].legend(loc='best')\n",
    "plt.show()"
   ]
  },
  {
   "cell_type": "markdown",
   "metadata": {},
   "source": [
    "### Fine Tuning"
   ]
  },
  {
   "cell_type": "code",
   "execution_count": null,
   "metadata": {
    "execution": {
     "iopub.execute_input": "2023-06-21T11:46:54.851746Z",
     "iopub.status.busy": "2023-06-21T11:46:54.851355Z",
     "iopub.status.idle": "2023-06-21T11:48:51.567102Z",
     "shell.execute_reply": "2023-06-21T11:48:51.565717Z",
     "shell.execute_reply.started": "2023-06-21T11:46:54.851717Z"
    }
   },
   "outputs": [],
   "source": [
    "# Define the parameter grid for grid search\n",
    "param_grid = {\n",
    "    'learning_rate': [0.01, 0.1],  # Learning rate for boosting\n",
    "    'n_estimators': [100, 200, 300],  # Number of boosting iterations\n",
    "    'reg_alpha': [0.0, 0.1, 0.5],  # L1 regularization term on weights\n",
    "    'reg_lambda': [0.0, 0.1, 0.5],  # L2 regularization term on weights\n",
    "    'max_depth': [-1, 5, 10],  # Maximum depth of a tree\n",
    "}\n",
    "\n",
    "# Generate all possible combinations of hyperparameters\n",
    "param_combinations = list(product(*param_grid.values()))\n",
    "\n",
    "# Create lists to store the results\n",
    "best_params = None\n",
    "best_model = None\n",
    "best_rmspe = float('inf')\n",
    "\n",
    "# Iterate over each parameter combination\n",
    "for params in tqdm(param_combinations):\n",
    "    # Create the LGBMRegressor model with the current hyperparameters\n",
    "    lgbm_model = LGBMRegressor(random_state=42, **dict(zip(param_grid.keys(), params)))\n",
    "    \n",
    "    # Fit the model to the training data\n",
    "    lgbm_model.fit(train_prep_X, train_prep_Y)\n",
    "    \n",
    "    # Make predictions on the test data\n",
    "    lgbm_test_preds = lgbm_model.predict(test_prep_X)\n",
    "    lgbm_test_preds = pd.Series(lgbm_test_preds, index=test_prep_X.index)\n",
    "    lgbm_test_preds = lgbm_test_preds.clip(lower=0)\n",
    "    lgbm_test_preds[test_prep_X[\"Open\"] == 0] = 0\n",
    "    # Calculate RMSPE\n",
    "    rmspe_value = rmspe(lgbm_test_preds, test_prep_Y)\n",
    "    \n",
    "    # Check if the current model has the best RMSPE\n",
    "    if rmspe_value < best_rmspe:\n",
    "        best_rmspe = rmspe_value\n",
    "        print(f\"  Found new best RMSPE: {best_rmspe}\")\n",
    "        best_params = params\n",
    "        best_model = lgbm_model\n",
    "\n",
    "# Print the best hyperparameters and RMSPE\n",
    "print(f\"Best Parameters: {dict(zip(param_grid.keys(), best_params))}\")\n",
    "print(f\"RMSPE for Best LGBM on Test: {best_rmspe}\")"
   ]
  },
  {
   "cell_type": "markdown",
   "metadata": {},
   "source": [
    "### Performance of best model"
   ]
  },
  {
   "cell_type": "code",
   "execution_count": null,
   "metadata": {
    "execution": {
     "iopub.execute_input": "2023-06-21T11:48:51.569609Z",
     "iopub.status.busy": "2023-06-21T11:48:51.569278Z",
     "iopub.status.idle": "2023-06-21T11:48:51.585095Z",
     "shell.execute_reply": "2023-06-21T11:48:51.583715Z",
     "shell.execute_reply.started": "2023-06-21T11:48:51.569579Z"
    }
   },
   "outputs": [],
   "source": [
    "lgbm_test_preds = best_model.predict(test_prep_X)\n",
    "lgbm_test_preds = pd.Series(lgbm_test_preds, index= test_prep_X.index)\n",
    "lgbm_test_preds = lgbm_test_preds.clip(lower=0)\n",
    "lgbm_test_preds[test_prep_X[\"Open\"] == 0] = 0\n",
    "print(f'RMSPE for LGBM on Test:{rmspe(lgbm_test_preds,test_prep_Y)}')"
   ]
  },
  {
   "cell_type": "markdown",
   "metadata": {},
   "source": [
    "### Plot predictions of best model"
   ]
  },
  {
   "cell_type": "code",
   "execution_count": null,
   "metadata": {
    "execution": {
     "iopub.execute_input": "2023-06-21T11:48:51.586943Z",
     "iopub.status.busy": "2023-06-21T11:48:51.586614Z",
     "iopub.status.idle": "2023-06-21T11:48:52.310174Z",
     "shell.execute_reply": "2023-06-21T11:48:52.309159Z",
     "shell.execute_reply.started": "2023-06-21T11:48:51.586914Z"
    }
   },
   "outputs": [],
   "source": [
    "fig ,axes =plt.subplots(2,1)\n",
    "fig.set_figheight(6)\n",
    "fig.set_figwidth(16)\n",
    "\n",
    "axes[0].plot(train_data[\"Sales\"], label='Train',color='blue')\n",
    "axes[0].plot(test_data[\"Sales\"], label='Test',color='orange')\n",
    "\n",
    "axes[0].plot(lgbm_test_preds,label=\"LGBM\",color='red')\n",
    "axes[0].legend(loc='best')\n",
    "\n",
    "axes[1].plot(test_data[\"Sales\"], label='Test',color='orange')\n",
    "axes[1].plot(lgbm_test_preds,label=\"LGBM\",color='red')\n",
    "axes[1].legend(loc='best')\n",
    "plt.show()"
   ]
  },
  {
   "cell_type": "markdown",
   "metadata": {},
   "source": [
    "---"
   ]
  },
  {
   "cell_type": "markdown",
   "metadata": {},
   "source": [
    "# 8. <a name=\"8\">**Choosing Best Model**</a>\n",
    "(<a href=\"#0\">Go to top</a>)"
   ]
  },
  {
   "cell_type": "markdown",
   "metadata": {},
   "source": [
    "| Method                        | RMSPE                    | Model Type      |\n",
    "|-------------------------------|-------------------------|------------------|\n",
    "| **LGBM**                      | **0.1039**              | **ML**           |\n",
    "| Prophet                       | 0.1366                  | Time Series      |\n",
    "| SARIMAX                       | 0.1947                  | Time Series      |\n",
    "| Auto Arima                    | 0.1999                  | Time Series      |\n",
    "| average method                | 0.2700                  | Simple Model     |\n",
    "| Arima                         | 0.2707                  | Time Series      |\n",
    "| Seasonal Naive method         | 0.2785                  | Simple Model     |\n",
    "| Naive method                  | 0.3849                  | Simple Model     |\n",
    "| Drift method                  | 0.4765                  | Simple Model     |\n"
   ]
  },
  {
   "cell_type": "markdown",
   "metadata": {},
   "source": [
    "## Summary\n",
    "\n",
    "**The LGBM model outperformed other models in the competition, indicating that the provided features have significant predictive power for sales forecasting. The time series models, including Prophet, SARIMAX and Auto ARIMA, performed reasonably well but were less accurate than the LGBM model. The simple models, such as the average method and the Seasonal Naive method, provided baseline performance, while the Naive method, and Drift method showed relatively higher errors, suggesting limitations in capturing the complexities of the sales data.**"
   ]
  },
  {
   "cell_type": "markdown",
   "metadata": {},
   "source": [
    "## <font color='green'>**Best model: LGBM Regressor**</font>"
   ]
  },
  {
   "cell_type": "markdown",
   "metadata": {},
   "source": [
    "**The best-performing model in terms of RMSPE (Root Mean Square Percentage Error) is the LightGBM (LGBM) model, with an RMSPE of 0.1039. LGBM is a gradient boosting framework that uses decision trees as base learners. Its strong performance suggests that the features provided in the dataset have significant predictive power, and the LGBM model effectively captures the relationships between these features and the sales data.**"
   ]
  },
  {
   "cell_type": "markdown",
   "metadata": {},
   "source": [
    "## <font color='green'>**Second Best model: Prophet**</font>"
   ]
  },
  {
   "cell_type": "markdown",
   "metadata": {},
   "source": [
    "**The second-best model is Prophet, a time series forecasting model developed by Facebook, with an RMSPE of 0.1366. Prophet is known for its ability to handle various time series patterns such as seasonality, trends, and holidays. Its slightly higher error compared to LGBM may be due to the nature of the data, where the predictive features utilized by LGBM might be better suited for capturing the sales patterns.**"
   ]
  },
  {
   "cell_type": "markdown",
   "metadata": {},
   "source": [
    "---"
   ]
  }
 ],
 "metadata": {
  "kaggle": {
   "accelerator": "none",
   "dataSources": [
    {
     "databundleVersionId": 860645,
     "sourceId": 4594,
     "sourceType": "competition"
    }
   ],
   "dockerImageVersionId": 30513,
   "isGpuEnabled": false,
   "isInternetEnabled": true,
   "language": "python",
   "sourceType": "notebook"
  },
  "kernelspec": {
   "display_name": "Python 3 (ipykernel)",
   "language": "python",
   "name": "python3"
  },
  "language_info": {
   "codemirror_mode": {
    "name": "ipython",
    "version": 3
   },
   "file_extension": ".py",
   "mimetype": "text/x-python",
   "name": "python",
   "nbconvert_exporter": "python",
   "pygments_lexer": "ipython3",
   "version": "3.9.12"
  }
 },
 "nbformat": 4,
 "nbformat_minor": 4
}
